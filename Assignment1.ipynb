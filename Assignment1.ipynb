{
 "cells": [
  {
   "cell_type": "markdown",
   "id": "051113fb-f589-40a0-8412-ff8bf7c35d6d",
   "metadata": {},
   "source": [
    "### Q1.What is Python, and why is it popular?\n",
    "\n",
    "Ans >> Python is a high-level, interpreted programming language known for its simple and readable syntax. It supports multiple programming paradigms, including object-oriented, procedural, and functional programming.\n",
    "\n",
    "**Reasons for its popularity**:\n",
    "\n",
    "~Easy to learn and use – Its syntax is clear and similar to English, making it beginner-friendly.\n",
    "\n",
    "~Extensive libraries and community support – Python has a vast collection of libraries and frameworks for tasks like data analysis, AI, web development, and more.\n",
    "\n",
    "---"
   ]
  },
  {
   "cell_type": "markdown",
   "id": "b0f3c6ad-2378-4b0a-b432-ae6d2f7ebc45",
   "metadata": {},
   "source": [
    "### Q2.What is an interpreter in Python?\n",
    "\n",
    "Ans >> Interpreter in Python is a special program that reads and runs Python code line by line, instantly converting it into a form the computer can understand. Because it works in real-time, you can quickly test and see results without waiting for compilation. This makes Python easier to use, especially for beginners, and also helps in finding and fixing errors faster.\n",
    "\n",
    "---"
   ]
  },
  {
   "cell_type": "markdown",
   "id": "1e9f2c50-b218-4014-981f-4516917c1b7d",
   "metadata": {},
   "source": [
    "### Q3.What are pre-defined keywords in Python?\n",
    "\n",
    "Ans >> Pre-defined keywords in Python are special reserved words that have fixed meanings and purposes in the language. They are used to define the structure and rules of Python programs, and you cannot use them as variable names or identifiers. Examples include if, else, while, for, def, class, and import.\n",
    "\n",
    "These keywords are built into Python, and their meanings cannot be changed by the programmer.\n",
    "\n",
    "---"
   ]
  },
  {
   "cell_type": "markdown",
   "id": "b6f4e3c1-3003-41c6-95ee-29f353936d34",
   "metadata": {},
   "source": [
    "### Q4.Can keywords be used as variable name?\n",
    "\n",
    "Ans >> No, keywords in Python cannot be used as variable names. This is because keywords are reserved by Python to perform specific tasks and define the program’s structure. Using them as variable names would confuse the interpreter and cause an error.\n",
    "\n",
    "if = 5      # This will give a syntax error\n",
    "\n",
    "---"
   ]
  },
  {
   "cell_type": "markdown",
   "id": "56cdf739-3409-4b12-9289-b3175c9f8553",
   "metadata": {},
   "source": [
    "### Q5.What is mutability in Python?\n",
    "\n",
    "Ans >> Mutability in Python refers to whether the value of an object can be changed after it is created.\n",
    "\n",
    "    -Mutable objects can be modified without changing their identity. Examples: lists, dictionaries, sets.\n",
    "\n",
    "    -Immutable objects cannot be changed once created; any modification creates a new object. Examples: strings, tuples, integers.\n",
    "\n",
    "---"
   ]
  },
  {
   "cell_type": "markdown",
   "id": "9931a0e0-cb51-4ede-be17-bde7b65e357e",
   "metadata": {},
   "source": [
    "### Q6.Why are lists mutable, but tuples are immutable?\n",
    "\n",
    "Ans >> Lists are mutable because their elements can be changed, added, or removed after the list is created. This makes them flexible for storing data that may need to be updated.\n",
    "\n",
    "Tuples are immutable because once they are created, their elements cannot be changed. This fixed nature makes them faster to process and safer to use when you want data to remain constant.\n",
    "\n",
    "Example:\n",
    "\n",
    "    my_lst = [1, 2, 3]\n",
    "    my_lst[0] = 10   #  Works\n",
    "\n",
    "    my_tuple = (1, 2, 3)\n",
    "    my_tuple[0] = 10  #  Error: Tuples cannot be modified\n",
    "\n",
    "---"
   ]
  },
  {
   "cell_type": "markdown",
   "id": "63f36b72-20a0-40bb-9cb9-2ebe2099e25f",
   "metadata": {},
   "source": [
    "### Q7.What is the difference between “==” and “is” operators in Python?\n",
    "\n",
    "Ans--> Equality operator(**==**) → Checks if the values of two objects are the same.\n",
    "\n",
    "Identity operator(**is**) → Checks if two objects refer to the same location in memory.\n",
    "\n",
    "Example:\n",
    "    \n",
    "    a = [1, 2, 3]\n",
    "    b = [1, 2, 3]\n",
    "\n",
    "    print(a == b)  # True (values are same)\n",
    "    print(a is b)  # False (different memory locations)\n",
    "\n",
    "---"
   ]
  },
  {
   "cell_type": "markdown",
   "id": "aba9de16-7a5c-45c4-b2d9-7e4a0b6e78c8",
   "metadata": {},
   "source": [
    "### Q8.What are logical operators in Python?\n",
    "\n",
    "Ans--> Logical operators in Python are used to combine conditional statements and return a Boolean value (True or False). They help in decision-making in programs.\n",
    "\n",
    "The three logical operators are:\n",
    "\n",
    "    and – Returns True if both conditions are true.\n",
    "\n",
    "    or – Returns True if at least one condition is true.\n",
    "\n",
    "    not – Reverses the Boolean value (True becomes False, and vice versa).\n",
    "\n",
    "Example:\n",
    "\n",
    "    x = 5\n",
    "    print(x > 2 and x < 10)  # True\n",
    "\n",
    "---"
   ]
  },
  {
   "cell_type": "markdown",
   "id": "3899b771-ed5f-4330-8691-bc6f56570eb0",
   "metadata": {},
   "source": [
    "### Q9.What is type casting in Python?\n",
    "\n",
    "Ans--> Type casting in Python is the process of converting a value from one data type to another. It is useful when you need data in a specific format for calculations or operations.\n",
    "\n",
    "Python supports two types of type casting:\n",
    "\n",
    "    Implicit type casting – Done automatically by Python (no data loss).\n",
    "\n",
    "    Explicit type casting – Done manually using functions like int(), float(), str(), etc.\n",
    "\n",
    "Examples:\n",
    "\n",
    "    # Explicit casting\n",
    "    num = int(4.7)    # output: 4\n",
    "\n",
    "    # Implicit casting\n",
    "    result = 5 + 3.0  # output: 8.0 (int is converted to float)\n",
    "\n",
    "---\n"
   ]
  },
  {
   "cell_type": "markdown",
   "id": "746d26eb-bbcb-41a3-95fb-9e9863719907",
   "metadata": {},
   "source": [
    "### Q10.What is the difference between implicit and explicit type casting?\n",
    "\n",
    "Ans--> **Implicit type casting** in Python is done automatically by the interpreter when it converts one data type to another without losing information. For example, when adding an integer and a float (5 + 2.0), Python automatically converts the integer into a float and gives 7.0.\n",
    "\n",
    "**Explicit type casting** is done manually by the programmer using functions like int(), float(), or str(). This method can sometimes lead to data loss, such as converting 3.8 into an integer using int(3.8), which results in 3.\n",
    "\n",
    "---"
   ]
  },
  {
   "cell_type": "markdown",
   "id": "b2f7ebd6-2c56-42e8-900b-e164ec20ca4c",
   "metadata": {},
   "source": [
    "### Q11.What is the purpose of conditional statements in Python?\n",
    "\n",
    "Ans--> The purpose of conditional statements in Python is to allow a program to make decisions and execute certain blocks of code only when specific conditions are met. They help control the flow of the program by checking if a condition is True or False. Common conditional statements in Python are if, elif, and else. For example, you can use them to display a message only if a user enters the correct password.\n",
    "\n",
    "---"
   ]
  },
  {
   "cell_type": "markdown",
   "id": "a2b47b50-ba35-4676-ad75-aeaabf6068cb",
   "metadata": {},
   "source": [
    "### Q12.How does the elif statement work?\n",
    "\n",
    "Ans--> The elif statement in Python is short for “else if” and is used to check multiple conditions one after another. It runs only if the previous if or elif conditions are False, and the elif condition is True.\n",
    "\n",
    "Example:\n",
    "\n",
    "    x = 10\n",
    "\n",
    "    if x > 15:\n",
    "        print(\"Greater than 15\")\n",
    "    elif x > 5:\n",
    "        print(\"Greater than 5 but not 15\")\n",
    "    else:\n",
    "        print(\"5 or less\")   # output: Greater than 5 but not 15\n",
    "\n",
    "---\n"
   ]
  },
  {
   "cell_type": "markdown",
   "id": "fd1ef223-b5e2-4b5b-9e80-9f0a8e72ee4e",
   "metadata": {},
   "source": [
    "### Q13. What is the difference between for and while loops?\n",
    "\n",
    "Ans--> The for loop in Python is used when you know in advance how many times you want to repeat a block of code. It is often used to iterate over sequences like lists, strings, or ranges. For example, for i in range(5) will run the loop exactly five times.\n",
    "\n",
    "The while loop is used when you want to keep repeating a block of code until a certain condition becomes false. The number of repetitions is not fixed in advance. For example, while x < 10 will keep running as long as x is less than 10.\n",
    "\n",
    "---"
   ]
  },
  {
   "cell_type": "markdown",
   "id": "b8679633-afc3-44a3-b4a3-e8071776e38c",
   "metadata": {},
   "source": [
    "### Describe a scenario where a while loop is more suitable than a for loop.\n",
    "\n",
    "Ans--> A while loop is more suitable when you do not know in advance how many times the loop needs to run, and the repetition depends on a condition.\n",
    "\n",
    "Example scenario:\n",
    "Suppose we are asking a user to enter a password until they type the correct one. We don’t know how many attempts they will take, so a while loop works best.\n",
    "\n",
    "    password = \"\"\n",
    "    while password != \"python123\":\n",
    "        password = input(\"Enter password: \")\n",
    "\n",
    "    print(\"Access granted!\")\n",
    "In this case, the loop keeps running until the correct password is entered.\n",
    "\n",
    "---\n"
   ]
  },
  {
   "cell_type": "markdown",
   "id": "9529f36b-07df-435c-9438-effb6486a32d",
   "metadata": {},
   "source": [
    "## Practical Questions"
   ]
  },
  {
   "cell_type": "markdown",
   "id": "ad14282d-f4cc-4cb2-b45e-b70157d96c65",
   "metadata": {},
   "source": [
    "#### Q1. Write a Python program to print \"Hello, World!\""
   ]
  },
  {
   "cell_type": "code",
   "execution_count": 2,
   "id": "d6f91254-43e7-42da-bd6b-042c00081676",
   "metadata": {},
   "outputs": [
    {
     "name": "stdout",
     "output_type": "stream",
     "text": [
      "Hello world!\n"
     ]
    }
   ],
   "source": [
    "print(\"Hello world!\")"
   ]
  },
  {
   "cell_type": "markdown",
   "id": "97b6d6e8-5161-4467-8b04-6d211df5a3db",
   "metadata": {},
   "source": [
    "---"
   ]
  },
  {
   "cell_type": "markdown",
   "id": "f30495cd-59c1-419d-9f4c-8c0928e9b4a9",
   "metadata": {},
   "source": [
    "#### Q2.Write a Python program that displays your name and age."
   ]
  },
  {
   "cell_type": "code",
   "execution_count": 7,
   "id": "ea27cdee-1b76-4bd5-afd9-eb5ad1a6ff1e",
   "metadata": {},
   "outputs": [
    {
     "name": "stdout",
     "output_type": "stream",
     "text": [
      "My name is Himanshu and my age is 21\n"
     ]
    }
   ],
   "source": [
    "name = \"Himanshu\"\n",
    "age = 21\n",
    "print(f\"My name is {name} and my age is {age}\")"
   ]
  },
  {
   "cell_type": "markdown",
   "id": "7af04be0-7d38-408c-b228-1acb15e21cd5",
   "metadata": {},
   "source": [
    "---"
   ]
  },
  {
   "cell_type": "markdown",
   "id": "86b48294-8888-45c7-82db-95f2cc0bce05",
   "metadata": {},
   "source": [
    "#### Q3.Write code to print all the pre-defined keywords in Python using the keyword library"
   ]
  },
  {
   "cell_type": "code",
   "execution_count": 10,
   "id": "1fe33a98-87d3-481a-9f32-454d3d8a4ba0",
   "metadata": {},
   "outputs": [
    {
     "name": "stdout",
     "output_type": "stream",
     "text": [
      "Python Keywords are:\n",
      "['False', 'None', 'True', 'and', 'as', 'assert', 'async', 'await', 'break', 'class', 'continue', 'def', 'del', 'elif', 'else', 'except', 'finally', 'for', 'from', 'global', 'if', 'import', 'in', 'is', 'lambda', 'nonlocal', 'not', 'or', 'pass', 'raise', 'return', 'try', 'while', 'with', 'yield']\n"
     ]
    }
   ],
   "source": [
    "import keyword\n",
    "\n",
    "print(\"Python Keywords are:\")\n",
    "print(keyword.kwlist)"
   ]
  },
  {
   "cell_type": "markdown",
   "id": "ba36f071-b41f-4cfc-99a6-e4af8aa8802a",
   "metadata": {},
   "source": [
    "---"
   ]
  },
  {
   "cell_type": "markdown",
   "id": "c5f09a33-b1fa-459b-b87b-460206a38fdb",
   "metadata": {},
   "source": [
    "#### Q4.Write a program that checks if a given word is a Python keyword"
   ]
  },
  {
   "cell_type": "code",
   "execution_count": 11,
   "id": "4a664422-7f61-4007-90df-c02f595035ba",
   "metadata": {},
   "outputs": [
    {
     "name": "stdin",
     "output_type": "stream",
     "text": [
      "Enter a word:  True\n"
     ]
    },
    {
     "name": "stdout",
     "output_type": "stream",
     "text": [
      "True is a Python keyword.\n"
     ]
    }
   ],
   "source": [
    "import keyword\n",
    "\n",
    "word = input(\"Enter a word: \")\n",
    "\n",
    "if keyword.iskeyword(word):\n",
    "    print(word, \"is a Python keyword.\")\n",
    "else:\n",
    "    print(word, \"is not a Python keyword.\")"
   ]
  },
  {
   "cell_type": "markdown",
   "id": "8008d0b7-f5d0-4ef9-9369-2be07364fb64",
   "metadata": {},
   "source": [
    "---"
   ]
  },
  {
   "cell_type": "markdown",
   "id": "aad02edd-8413-4a02-bf7a-36e1c0b7167e",
   "metadata": {},
   "source": [
    "#### Q5. Create a list and tuple in Python, and demonstrate how attempting to change an element works differently for each."
   ]
  },
  {
   "cell_type": "code",
   "execution_count": null,
   "id": "3388914c-6769-484f-82c6-ce45e83641a8",
   "metadata": {},
   "outputs": [],
   "source": [
    "# Creating a list (mutable)\n",
    "my_list = [10, 20, 30]\n",
    "my_list[1] = 99   # Changing element at index 1\n",
    "print(\"Updated list:\", my_list)\n",
    "\n",
    "# Creating a tuple (immutable)\n",
    "my_tuple = (10, 20, 30)\n",
    "my_tuple[1] = 99   # Attempting to change element (will cause error)"
   ]
  },
  {
   "cell_type": "markdown",
   "id": "51855fec-1a1c-466a-b211-7cb91b679c23",
   "metadata": {},
   "source": [
    "---"
   ]
  },
  {
   "cell_type": "markdown",
   "id": "22300dc7-0709-4134-a03d-211d2a5e3e14",
   "metadata": {},
   "source": [
    "#### Q6.Write a function to demonstrate the behavior of mutable and immutable arguments."
   ]
  },
  {
   "cell_type": "code",
   "execution_count": 13,
   "id": "0ca1b199-c656-45a7-8b6f-ae37ecbc9bd6",
   "metadata": {},
   "outputs": [
    {
     "name": "stdout",
     "output_type": "stream",
     "text": [
      "Inside function (list): [1, 2, 3, 100]\n",
      "Outside function (list): [1, 2, 3, 100]\n",
      "Inside function (int): 150\n",
      "Outside function (int): 50\n"
     ]
    }
   ],
   "source": [
    "def modify_list(a_list):\n",
    "    a_list.append(100)  # Changes original list\n",
    "    print(\"Inside function (list):\", a_list)\n",
    "\n",
    "def modify_number(a_num):\n",
    "    a_num += 100  # Creates new number\n",
    "    print(\"Inside function (int):\", a_num)\n",
    "\n",
    "# Mutable example\n",
    "lst = [1, 2, 3]\n",
    "modify_list(lst)\n",
    "print(\"Outside function (list):\", lst)\n",
    "\n",
    "# Immutable example\n",
    "num = 50\n",
    "modify_number(num)\n",
    "print(\"Outside function (int):\", num)\n"
   ]
  },
  {
   "cell_type": "markdown",
   "id": "aa6771a9-babc-40d8-8309-69ed94c3780f",
   "metadata": {},
   "source": [
    "---"
   ]
  },
  {
   "cell_type": "markdown",
   "id": "6c5e6d39-a1b4-4f15-bd61-85388598fe4f",
   "metadata": {},
   "source": [
    "#### Q7.Write a program that performs basic arithmetic operations on two user-input numbers."
   ]
  },
  {
   "cell_type": "code",
   "execution_count": 18,
   "id": "d44ce512-aa2c-470b-8591-44ac916bfacc",
   "metadata": {},
   "outputs": [
    {
     "name": "stdin",
     "output_type": "stream",
     "text": [
      "Enter first number:  4\n",
      "Enter second number:  2\n"
     ]
    },
    {
     "name": "stdout",
     "output_type": "stream",
     "text": [
      "Addition: 6.0\n",
      "Subtraction: 2.0\n",
      "Multiplication: 8.0\n",
      "Division: 2.0\n"
     ]
    }
   ],
   "source": [
    "# Basic Arithmetic Operations\n",
    "\n",
    "# Taking user input\n",
    "num1 = float(input(\"Enter first number: \"))\n",
    "num2 = float(input(\"Enter second number: \"))\n",
    "\n",
    "# Performing operations\n",
    "print(\"Addition:\", num1 + num2)\n",
    "print(\"Subtraction:\", num1 - num2)\n",
    "print(\"Multiplication:\", num1 * num2)\n",
    "print(\"Division:\", num1 / num2)"
   ]
  },
  {
   "cell_type": "markdown",
   "id": "f88a7709-d9dc-4e06-9005-ae563aa217b1",
   "metadata": {},
   "source": [
    "---"
   ]
  },
  {
   "cell_type": "markdown",
   "id": "03ef1a3d-a06c-4115-bfe1-0390c972e578",
   "metadata": {},
   "source": [
    "#### Q8.Write a program to demonstrate the use of logical operators."
   ]
  },
  {
   "cell_type": "code",
   "execution_count": 21,
   "id": "e1a22f90-2855-402f-a2b6-47a6c68db156",
   "metadata": {},
   "outputs": [
    {
     "name": "stdout",
     "output_type": "stream",
     "text": [
      "a and b: False\n",
      "a or b: True\n",
      "not a: False\n"
     ]
    }
   ],
   "source": [
    "a = True\n",
    "b = False\n",
    "\n",
    "print(\"a and b:\", a and b)   # True if both are True\n",
    "print(\"a or b:\", a or b)     # True if at least one is True\n",
    "print(\"not a:\", not a)       # True if a is False"
   ]
  },
  {
   "cell_type": "markdown",
   "id": "9aa284a8-270c-4bce-bac5-3aef38d098d9",
   "metadata": {},
   "source": [
    "---"
   ]
  },
  {
   "cell_type": "markdown",
   "id": "643c3146-528f-4c57-a997-5c00b3b335a8",
   "metadata": {},
   "source": [
    "#### Q9.Write a Python program to convert user input from string to integer, float, and boolean types."
   ]
  },
  {
   "cell_type": "code",
   "execution_count": 24,
   "id": "208c4c23-92da-4d5c-bfe0-81cb524b5b49",
   "metadata": {},
   "outputs": [
    {
     "name": "stdin",
     "output_type": "stream",
     "text": [
      "Enter something:  hi\n"
     ]
    },
    {
     "name": "stdout",
     "output_type": "stream",
     "text": [
      "String: hi\n",
      "Cannot convert to Integer.\n",
      "Cannot convert to Float.\n",
      "Boolean: True\n"
     ]
    }
   ],
   "source": [
    "# Taking user input as string\n",
    "user_input = input(\"Enter something: \")\n",
    "\n",
    "# String\n",
    "string_value = user_input\n",
    "print(\"String:\", string_value)\n",
    "\n",
    "# Integer\n",
    "try:\n",
    "    int_value = int(user_input)\n",
    "    print(\"Integer:\", int_value)\n",
    "except ValueError:\n",
    "    print(\"Cannot convert to Integer.\")\n",
    "\n",
    "# Float\n",
    "try:\n",
    "    float_value = float(user_input)\n",
    "    print(\"Float:\", float_value)\n",
    "except ValueError:\n",
    "    print(\"Cannot convert to Float.\")\n",
    "\n",
    "# Boolean\n",
    "# Any non-empty string except \"0\" becomes True\n",
    "bool_value = bool(user_input)\n",
    "print(\"Boolean:\", bool_value)"
   ]
  },
  {
   "cell_type": "markdown",
   "id": "59a3610a-5601-4c43-b11b-99c18d589a16",
   "metadata": {},
   "source": [
    "---"
   ]
  },
  {
   "cell_type": "markdown",
   "id": "324b550b-d48c-483a-9c8c-42bdf37601ab",
   "metadata": {},
   "source": [
    "#### Q10.Write code to demonstrate type casting with list elements."
   ]
  },
  {
   "cell_type": "code",
   "execution_count": 30,
   "id": "da53ccf7-7eb0-48ef-8a38-35e459e4b8e8",
   "metadata": {},
   "outputs": [
    {
     "name": "stdout",
     "output_type": "stream",
     "text": [
      "Original list: ['10', '20', '30', '40']\n",
      "List after converting to integers: [10, 20, 30, 40]\n",
      "List after converting to floats: [10.0, 20.0, 30.0, 40.0]\n"
     ]
    }
   ],
   "source": [
    "# Original list with string numbers\n",
    "string_list = [\"10\", \"20\", \"30\", \"40\"]\n",
    "\n",
    "print(\"Original list:\", string_list)\n",
    "\n",
    "# Convert each element to integer\n",
    "int_list = [int(item) for item in string_list]\n",
    "print(\"List after converting to integers:\", int_list)\n",
    "\n",
    "# Convert each element to float\n",
    "float_list = [float(item) for item in string_list]\n",
    "print(\"List after converting to floats:\", float_list)"
   ]
  },
  {
   "cell_type": "markdown",
   "id": "58655e5b-5323-42be-9da1-5ae2a76f515c",
   "metadata": {},
   "source": [
    "---"
   ]
  },
  {
   "cell_type": "markdown",
   "id": "60e57d56-b84b-48f5-9785-6d3bba9d2fc4",
   "metadata": {},
   "source": [
    "#### Q11.Write a program that checks if a number is positive, negative, or zero."
   ]
  },
  {
   "cell_type": "code",
   "execution_count": 32,
   "id": "88f9e583-538b-467a-a234-96e364761cef",
   "metadata": {},
   "outputs": [
    {
     "name": "stdin",
     "output_type": "stream",
     "text": [
      "Enter a number:  4\n"
     ]
    },
    {
     "name": "stdout",
     "output_type": "stream",
     "text": [
      "The number is Positive\n"
     ]
    }
   ],
   "source": [
    "num = float(input(\"Enter a number: \"))\n",
    "\n",
    "if num > 0:\n",
    "    print(\"The number is Positive\")\n",
    "elif num < 0:\n",
    "    print(\"The number is Negative\")\n",
    "else:\n",
    "    print(\"The number is Zero\")"
   ]
  },
  {
   "cell_type": "markdown",
   "id": "dfdd8cb1-a66a-41e3-bf61-493ce17a483d",
   "metadata": {},
   "source": [
    "---"
   ]
  },
  {
   "cell_type": "markdown",
   "id": "5f27ea29-d474-492d-bb97-037f4b1cb4f5",
   "metadata": {},
   "source": [
    "#### Q12.Write a for loop to print numbers from 1 to 10"
   ]
  },
  {
   "cell_type": "code",
   "execution_count": 33,
   "id": "d6b0744f-ae32-47c1-90d2-f3ba77953a91",
   "metadata": {},
   "outputs": [
    {
     "name": "stdout",
     "output_type": "stream",
     "text": [
      "1\n",
      "2\n",
      "3\n",
      "4\n",
      "5\n",
      "6\n",
      "7\n",
      "8\n",
      "9\n",
      "10\n"
     ]
    }
   ],
   "source": [
    "for i in range(1,11):\n",
    "    print(i)"
   ]
  },
  {
   "cell_type": "markdown",
   "id": "e9595b39-c671-4c8d-be0e-de9f312baeff",
   "metadata": {},
   "source": [
    "---"
   ]
  },
  {
   "cell_type": "markdown",
   "id": "7c485812-5e1d-4ace-8138-73e99135cb84",
   "metadata": {},
   "source": [
    "#### Q13.Write a Python program to find the sum of all even numbers between 1 and 50."
   ]
  },
  {
   "cell_type": "code",
   "execution_count": 44,
   "id": "fe24bded-dda4-4c07-ac59-41f7eac04ca5",
   "metadata": {},
   "outputs": [
    {
     "name": "stdout",
     "output_type": "stream",
     "text": [
      "The sum of even numbers between 1 and 50 is: 650\n"
     ]
    }
   ],
   "source": [
    "total = 0\n",
    "for num in range(2, 51, 2):  # Start at 2, go up to 50, step by 2\n",
    "    total += num\n",
    "\n",
    "print(\"The sum of even numbers between 1 and 50 is:\", total)"
   ]
  },
  {
   "cell_type": "markdown",
   "id": "434b0d9b-3f54-46af-b553-985bf754b029",
   "metadata": {},
   "source": [
    "---"
   ]
  },
  {
   "cell_type": "markdown",
   "id": "e253054e-16e0-4218-b88d-f65b525de025",
   "metadata": {},
   "source": [
    "#### Q14.. Write a program to reverse a string using a while loop."
   ]
  },
  {
   "cell_type": "code",
   "execution_count": 51,
   "id": "5ca8a2d3-d3db-412c-b91f-55dc43d9fb96",
   "metadata": {},
   "outputs": [
    {
     "name": "stdin",
     "output_type": "stream",
     "text": [
      "Enter a string:  Himanshu\n"
     ]
    },
    {
     "name": "stdout",
     "output_type": "stream",
     "text": [
      "Reversed string: uhsnamiH\n"
     ]
    }
   ],
   "source": [
    "text = input(\"Enter a string: \")\n",
    "reversed_text = \"\"\n",
    "\n",
    "index = len(text) - 1\n",
    "while index >= 0:\n",
    "    reversed_text += text[index]\n",
    "    index -= 1\n",
    "\n",
    "print(\"Reversed string:\", reversed_text)"
   ]
  },
  {
   "cell_type": "markdown",
   "id": "e59fd9c0-c97d-46d8-a5ec-a66ee1f45411",
   "metadata": {},
   "source": [
    "---"
   ]
  },
  {
   "cell_type": "markdown",
   "id": "6b93088f-161c-417a-93e7-a94758b907e6",
   "metadata": {},
   "source": [
    "#### Q15.Write a Python program to calculate the factorial of a number provided by the user using a while loop."
   ]
  },
  {
   "cell_type": "code",
   "execution_count": 57,
   "id": "058b5a67-b8c4-4f4a-8b7d-6bf0be83c107",
   "metadata": {},
   "outputs": [
    {
     "name": "stdin",
     "output_type": "stream",
     "text": [
      "Enter a number:  5\n"
     ]
    },
    {
     "name": "stdout",
     "output_type": "stream",
     "text": [
      "Factorial of 5 is 120\n"
     ]
    }
   ],
   "source": [
    "# Factorial using while loop\n",
    "num = int(input(\"Enter a number: \"))\n",
    "\n",
    "factorial = 1\n",
    "i = 1\n",
    "\n",
    "while i <= num:\n",
    "    factorial *= i\n",
    "    i += 1\n",
    "\n",
    "print(f\"Factorial of {num} is {factorial}\")"
   ]
  },
  {
   "cell_type": "markdown",
   "id": "f3f18096-c2ce-4bda-b358-6b552af79310",
   "metadata": {},
   "source": [
    "---"
   ]
  },
  {
   "cell_type": "code",
   "execution_count": null,
   "id": "418767d5-8bdb-444a-b083-960f133aae22",
   "metadata": {},
   "outputs": [],
   "source": []
  }
 ],
 "metadata": {
  "kernelspec": {
   "display_name": "Python 3 (ipykernel)",
   "language": "python",
   "name": "python3"
  },
  "language_info": {
   "codemirror_mode": {
    "name": "ipython",
    "version": 3
   },
   "file_extension": ".py",
   "mimetype": "text/x-python",
   "name": "python",
   "nbconvert_exporter": "python",
   "pygments_lexer": "ipython3",
   "version": "3.12.4"
  }
 },
 "nbformat": 4,
 "nbformat_minor": 5
}

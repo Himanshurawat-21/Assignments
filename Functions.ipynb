{
 "cells": [
  {
   "cell_type": "markdown",
   "id": "1d9649ad-4a82-43b3-b388-eb0bbbe6b1f5",
   "metadata": {},
   "source": [
    "### Q.1.What is the difference between a function and a method in Python?\n",
    "\n",
    "Ans>> A function is a block of reusable code that performs a task and can be called independently. It is not tied to any object.\n",
    "\n",
    "    def greet():\n",
    "        print(\"Hello!\")\n",
    "    greet()  # calling the function\n",
    "\n",
    "A method is a function that belongs to an object and is called using that object. Methods can access or modify the object’s data.\n",
    "\n",
    "    text = \"hello\"\n",
    "    print(text.upper())  # upper() is a string method\n",
    "    \n",
    "---"
   ]
  },
  {
   "cell_type": "markdown",
   "id": "269a0075-004d-49a9-b18b-fe8b50d71c3f",
   "metadata": {},
   "source": [
    "## Q.2.Explain the concept of function arguments and parameters in Python.\n",
    "\n",
    "Ans>> **Parameters** are variables defined in a function that act as placeholders for the data the function will receive.\n",
    "\n",
    "**Arguments** are the actual values passed to the function when it is called.\n",
    "\n",
    "    # 'x' and 'y' are parameters\n",
    "    def add(x, y):\n",
    "        return x + y\n",
    "\n",
    "    # 5 and 10 are arguments passed to the function\n",
    "    result = add(5, 10)\n",
    "print(result)\n",
    "\n",
    "---"
   ]
  },
  {
   "cell_type": "markdown",
   "id": "2a7e61d7-066a-4423-901a-2ca4718820ff",
   "metadata": {},
   "source": [
    "### Q.3.What are the different ways to define and call a function in Python.\n",
    "\n",
    "Ans>> **Normal function**: Using def keyword.\n",
    "\n",
    "    def greet():\n",
    "        print(\"Hello!\")\n",
    "    greet()  # calling the function\n",
    "\n",
    "**Function with parameters**: Accepts input values.\n",
    "\n",
    "    def add(x, y):\n",
    "        return x + y\n",
    "    print(add(5, 10))\n",
    "\n",
    "**Default arguments**: Parameters can have default values.\n",
    "\n",
    "    def greet(name=\"Friend\"):\n",
    "        print(\"Hello\", name)\n",
    "    greet()            # uses default value\n",
    "    greet(\"Rohan\")     # uses provided argument\n",
    "\n",
    "**Lambda function**: Anonymous single-line functions.\n",
    "\n",
    "    square = lambda x: x**2\n",
    "    print(square(4))\n",
    "\n",
    "---"
   ]
  },
  {
   "cell_type": "markdown",
   "id": "8ecf311b-c41e-4909-8e37-96c0ea5a6ed9",
   "metadata": {},
   "source": [
    "### Q.4.What is the purpose of the `return` statement in a Python function?\n",
    "\n",
    "Ans>> The return statement in Python is used to send a value back from a function to the part of the program where it was called. Without return, a function performs its task but gives no output to use elsewhere.\n",
    "\n",
    "    def add(x, y):\n",
    "        return x + y   # returns the sum to the caller\n",
    "\n",
    "    result = add(5, 10)  # result now stores 15\n",
    "    print(result)\n",
    "\n",
    "---"
   ]
  },
  {
   "cell_type": "markdown",
   "id": "9a6eb4bb-8147-4867-83b0-0da4a2950913",
   "metadata": {},
   "source": [
    "### Q.5.What are iterators in Python and how do they differ from iterables?\n",
    "\n",
    "Ans>> An **iterable** is any Python object capable of returning its elements one at a time, like a list, tuple, or string.\n",
    "\n",
    "An **iterator** is an object that keeps track of the current position while traversing an iterable using the next() function.\n",
    "\n",
    "    numbers = [1, 2, 3]        # list is iterable\n",
    "    it = iter(numbers)          # create an iterator from the list\n",
    "    print(next(it))             # 1\n",
    "    print(next(it))             # 2\n",
    "\n",
    "---"
   ]
  },
  {
   "cell_type": "markdown",
   "id": "15844e1f-14ec-458d-b25f-40d99f7258aa",
   "metadata": {},
   "source": [
    "### Q.6.Explain the concept of generators in Python and how they are defined.\n",
    "\n",
    "Ans>> Generators in Python are a type of iterator that generate values on the fly, rather than storing them all in memory. This makes them memory-efficient, especially for large data.\n",
    "\n",
    "Generators are defined using a function with the yield keyword instead of return.\n",
    "\n",
    "Each call to next() resumes the function from where it last yielded a value.\n",
    "\n",
    "    def my_generator():\n",
    "        for i in range(3):\n",
    "            yield i\n",
    "\n",
    "    gen = my_generator()\n",
    "    print(next(gen))  # 0\n",
    "    print(next(gen))  # 1\n",
    "\n",
    "---"
   ]
  },
  {
   "cell_type": "markdown",
   "id": "55bc9160-f489-4a2f-a96c-85b92ae62b2f",
   "metadata": {},
   "source": [
    "### Q.7.What are the advantages of using generators over regular functions.\n",
    "\n",
    "Ans>> Generators offer several advantages over regular functions:\n",
    "\n",
    "**Memory efficiency**: Generators produce items one at a time, so they don’t store the entire sequence in memory. This is useful for large datasets.\n",
    "\n",
    "**Lazy evaluation**: Values are computed only when needed, which can improve performance and reduce unnecessary calculations.\n",
    "\n",
    "    def numbers():\n",
    "        for i in range(1000000):\n",
    "            yield i   # generates one number at a time\n",
    "\n",
    "---"
   ]
  },
  {
   "cell_type": "markdown",
   "id": "fef6fb4f-22bb-4ea1-aec3-7a1edff2c0a3",
   "metadata": {},
   "source": [
    "### Q.8.What is a lambda function in Python and when is it typically used?\n",
    "\n",
    "Ans>> A lambda function in Python is an anonymous, single-line function defined using the lambda keyword instead of def. It can take any number of arguments but can only have one expression, which is automatically returned.\n",
    "\n",
    "Use: When a small, short-lived function is needed, often as an argument to functions like map(), filter(), or sorted().\n",
    "\n",
    "    square = lambda x: x**2\n",
    "    print(square(5))  # Output: 25\n",
    "\n",
    "---"
   ]
  },
  {
   "cell_type": "markdown",
   "id": "63126413-468f-4386-88dd-154a7e5f2e3a",
   "metadata": {},
   "source": [
    "## Q.9.Explain the purpose and usage of the `map()` function in Python.\n",
    "\n",
    "Ans>> The map() function in Python is used to apply a function to every item of an iterable (like a list or tuple) and return a new iterator with the results. It avoids writing explicit loops for applying a function repeatedly.\n",
    "\n",
    "    numbers = [1, 2, 3, 4]\n",
    "\n",
    "    # double each number using map and a lambda function\n",
    "    doubled = map(lambda x: x*2, numbers)\n",
    "\n",
    "    # convert the map object to a list and print it\n",
    "    print(list(doubled))  # Output: [2, 4, 6, 8]\n",
    "\n",
    "---"
   ]
  },
  {
   "cell_type": "markdown",
   "id": "564a1745-091c-489f-954d-6be50a7f7586",
   "metadata": {},
   "source": [
    "### Q.10.What is the difference between `map()`, `reduce()`, and `filter()` functions in Python?\n",
    "\n",
    "Ans>> n Python, map(), filter(), and reduce() are functions used for processing iterables, but they serve different purposes.\n",
    "\n",
    "**map()** applies a given function to every element of an iterable and returns a new iterator with the transformed values.\n",
    "\n",
    "**filter()** returns only those elements of an iterable that satisfy a specific condition.\n",
    "\n",
    "**reduce()** (from the functools module) applies a function cumulatively to the elements of an iterable, reducing it to a single value.\n",
    "\n",
    "    from functools import reduce\n",
    "\n",
    "    nums = [1, 2, 3, 4]\n",
    "\n",
    "    print(list(map(lambda x: x*2, nums)))        # [2, 4, 6, 8]\n",
    "    print(list(filter(lambda x: x%2==0, nums)))  # [2, 4]\n",
    "    print(reduce(lambda x,y: x+y, nums))        # 10\n",
    "\n",
    "---"
   ]
  },
  {
   "cell_type": "markdown",
   "id": "309431ad-c438-43df-a50e-602bb7edab3d",
   "metadata": {},
   "source": [
    "### Q.11.Using pen & Paper write the internal mechanism for sum operation using  reduce function on this given  list:[47,11,42,13];"
   ]
  },
  {
   "cell_type": "markdown",
   "id": "b54e1236-27b0-42b9-9c7c-6a7e02ffe265",
   "metadata": {},
   "source": [
    "![](answer.jpg)"
   ]
  },
  {
   "cell_type": "markdown",
   "id": "4ef7663f-281c-41ef-8127-3d3014b4096c",
   "metadata": {},
   "source": [
    "---"
   ]
  },
  {
   "cell_type": "markdown",
   "id": "bd63551e-1cdc-43f5-b322-9850c56a3911",
   "metadata": {},
   "source": [
    "# Practical Questions"
   ]
  },
  {
   "cell_type": "markdown",
   "id": "3d5fda59-bbc8-4f6f-bafe-36de39b20b0c",
   "metadata": {},
   "source": [
    "### Q.1.Write a Python function that takes a list of numbers as input and returns the sum of all even numbers in the list"
   ]
  },
  {
   "cell_type": "code",
   "execution_count": 3,
   "id": "44bf3a41-3e77-43a9-8443-b80bab9044e2",
   "metadata": {},
   "outputs": [
    {
     "name": "stdout",
     "output_type": "stream",
     "text": [
      "12\n"
     ]
    }
   ],
   "source": [
    "# define a function to calculate the sum of even numbers in a list\n",
    "def sum_of_even(numbers):\n",
    "    total = 0                # initialize total to 0\n",
    "    for num in numbers:      # iterate through each number in the list\n",
    "        if num % 2 == 0:     # check if the number is even\n",
    "            total += num     # add even number to total\n",
    "    return total             # return the final sum\n",
    "\n",
    "# example list of numbers\n",
    "nums = [1, 2, 3, 4, 5, 6]\n",
    "\n",
    "# call the function and print the result\n",
    "print(sum_of_even(nums))"
   ]
  },
  {
   "cell_type": "markdown",
   "id": "3e754418-da71-4d86-8fdf-6a0bffba7f07",
   "metadata": {},
   "source": [
    "---"
   ]
  },
  {
   "cell_type": "markdown",
   "id": "1bb36a0a-43ed-4dcd-98bd-bf383f626f92",
   "metadata": {},
   "source": [
    "### Q.2.Create a Python function that accepts a string and returns the reverse of that string."
   ]
  },
  {
   "cell_type": "code",
   "execution_count": 4,
   "id": "d006dd2b-162f-469f-9e83-b7a56b5eba0f",
   "metadata": {},
   "outputs": [
    {
     "name": "stdout",
     "output_type": "stream",
     "text": [
      "nohtyP\n"
     ]
    }
   ],
   "source": [
    "# define a function to reverse a string\n",
    "def reverse_string(text):\n",
    "    # use slicing to reverse the string\n",
    "    return text[::-1]\n",
    "\n",
    "# example string\n",
    "my_text = \"Python\"\n",
    "\n",
    "# call the function and print the reversed string\n",
    "print(reverse_string(my_text))"
   ]
  },
  {
   "cell_type": "code",
   "execution_count": null,
   "id": "08776024-8a88-4115-806d-9b56b391a30a",
   "metadata": {},
   "outputs": [],
   "source": []
  },
  {
   "cell_type": "markdown",
   "id": "ff996c4e-360f-4aca-a049-d41251cbf3b1",
   "metadata": {},
   "source": [
    "### Q.3.Implement a Python function that takes a list of integers and returns a new list containing the squares of each number"
   ]
  },
  {
   "cell_type": "code",
   "execution_count": 6,
   "id": "e98c50b3-3002-43f0-acac-27290a11f8ef",
   "metadata": {},
   "outputs": [
    {
     "name": "stdout",
     "output_type": "stream",
     "text": [
      "[1, 4, 9, 16, 25]\n"
     ]
    }
   ],
   "source": [
    "# define a function to return a list of squares of each number\n",
    "def square_list(numbers):\n",
    "    squared = []                # create an empty list to store squares\n",
    "    for num in numbers:         # iterate through each number in the list\n",
    "        squared.append(num**2)  # calculate square and add to the new list\n",
    "    return squared              # return the list of squares\n",
    "\n",
    "# example list of numbers\n",
    "nums = [1, 2, 3, 4, 5]\n",
    "\n",
    "# call the function and print the result\n",
    "print(square_list(nums))"
   ]
  },
  {
   "cell_type": "code",
   "execution_count": null,
   "id": "6bc3686c-1ed0-44dd-8665-0fec575ffefd",
   "metadata": {},
   "outputs": [],
   "source": []
  },
  {
   "cell_type": "markdown",
   "id": "36a94ff0-3d35-40b5-ae0a-b692543fca1f",
   "metadata": {},
   "source": [
    "### Q.4.Write a Python function that checks if a given number is prime or not from 1 to 200."
   ]
  },
  {
   "cell_type": "code",
   "execution_count": 8,
   "id": "b1b2248a-197f-4ccf-8ff0-068c7d5a0af5",
   "metadata": {},
   "outputs": [
    {
     "name": "stdout",
     "output_type": "stream",
     "text": [
      "2 3 5 7 11 13 17 19 23 29 31 37 41 43 47 53 59 61 67 71 73 79 83 89 97 101 103 107 109 113 127 131 137 139 149 151 157 163 167 173 179 181 191 193 197 199 "
     ]
    }
   ],
   "source": [
    "# define a function to check if a number is prime\n",
    "def is_prime(n):\n",
    "    if n <= 1:           # numbers less than or equal to 1 are not prime\n",
    "        return False\n",
    "    for i in range(2, int(n**0.5) + 1):  # check divisibility up to square root of n\n",
    "        if n % i == 0:   # if divisible by any number, it's not prime\n",
    "            return False\n",
    "    return True           # if not divisible by any number, it's prime\n",
    "\n",
    "# check and print prime numbers from 1 to 200\n",
    "for num in range(1, 201):\n",
    "    if is_prime(num):\n",
    "        print(num, end=\" \")"
   ]
  },
  {
   "cell_type": "markdown",
   "id": "5cd5f69f-90c1-4113-a3cb-64ffc7e10bf2",
   "metadata": {},
   "source": [
    "---"
   ]
  },
  {
   "cell_type": "markdown",
   "id": "241a0559-dbf3-4e6b-b595-ee9c90134605",
   "metadata": {},
   "source": [
    "### Q.5.Create an iterator class in Python that generates the Fibonacci sequence up to a specified number of terms"
   ]
  },
  {
   "cell_type": "code",
   "execution_count": 9,
   "id": "fb194946-713c-4dcf-abc6-61b007d2606b",
   "metadata": {},
   "outputs": [
    {
     "name": "stdout",
     "output_type": "stream",
     "text": [
      "0 1 1 2 3 5 8 13 21 34 "
     ]
    }
   ],
   "source": [
    "# define a class to create an iterator for Fibonacci sequence\n",
    "class Fibonacci:\n",
    "    def __init__(self, terms):\n",
    "        self.terms = terms      # total number of terms to generate\n",
    "        self.count = 0          # counter to track the current term\n",
    "        self.a, self.b = 0, 1   # first two Fibonacci numbers\n",
    "\n",
    "    # define the __iter__ method to make the class an iterator\n",
    "    def __iter__(self):\n",
    "        return self\n",
    "\n",
    "    # define the __next__ method to get the next Fibonacci number\n",
    "    def __next__(self):\n",
    "        if self.count >= self.terms:   # stop iteration when count reaches terms\n",
    "            raise StopIteration\n",
    "        if self.count == 0:            # first term\n",
    "            self.count += 1\n",
    "            return self.a\n",
    "        elif self.count == 1:          # second term\n",
    "            self.count += 1\n",
    "            return self.b\n",
    "        else:\n",
    "            self.a, self.b = self.b, self.a + self.b  # calculate next term\n",
    "            self.count += 1\n",
    "            return self.b\n",
    "\n",
    "# create an iterator for first 10 Fibonacci numbers\n",
    "fib_iter = Fibonacci(10)\n",
    "\n",
    "# print Fibonacci numbers using the iterator\n",
    "for num in fib_iter:\n",
    "    print(num, end=\" \")"
   ]
  },
  {
   "cell_type": "markdown",
   "id": "62848a0f-7bed-4ff2-bc67-83b98d720f0b",
   "metadata": {},
   "source": [
    "---"
   ]
  },
  {
   "cell_type": "markdown",
   "id": "4035f44d-56e9-49b1-a1aa-002801de0c0d",
   "metadata": {},
   "source": [
    "### Q.6.Write a generator function in Python that yields the powers of 2 up to a given exponent."
   ]
  },
  {
   "cell_type": "code",
   "execution_count": 25,
   "id": "00e41b07-666c-4b6e-b9c6-3a1690683cc4",
   "metadata": {},
   "outputs": [
    {
     "name": "stdout",
     "output_type": "stream",
     "text": [
      "1 2 4 8 16 32 "
     ]
    }
   ],
   "source": [
    "# define a generator function to yield powers of 2 up to a given exponent\n",
    "def powers_of_two(max_exp):\n",
    "    for i in range(max_exp + 1):  # loop from 0 to max exponent\n",
    "        yield 2 ** i             # yield 2 raised to the current power\n",
    "\n",
    "# example: generate powers of 2 up to exponent 5\n",
    "for value in powers_of_two(5):\n",
    "    print(value, end=\" \")"
   ]
  },
  {
   "cell_type": "markdown",
   "id": "c667317f-9407-4891-8b88-9f00d4bfc9c4",
   "metadata": {},
   "source": [
    "---"
   ]
  },
  {
   "cell_type": "markdown",
   "id": "e2392560-0098-43d8-9a68-bfb655874f5f",
   "metadata": {},
   "source": [
    "### Q.7.Implement a generator function that reads a file line by line and yields each line as a string."
   ]
  },
  {
   "cell_type": "code",
   "execution_count": 26,
   "id": "3e0f8c1c-989b-456c-97f1-e5da95f353a3",
   "metadata": {},
   "outputs": [
    {
     "name": "stdout",
     "output_type": "stream",
     "text": [
      "Hello my name is himanshu.\n",
      "I'm learning Data science from PWskills.\n"
     ]
    }
   ],
   "source": [
    "# define a generator function to read a file line by line\n",
    "def read_file_lines(filename):\n",
    "    # open the file in read mode\n",
    "    with open(filename, 'r') as file:\n",
    "        for line in file:\n",
    "            yield line.strip()  # yield each line after removing leading/trailing whitespace\n",
    "\n",
    "# example usage\n",
    "# assuming there is a file named \"sample.txt\" in the same directory\n",
    "for line in read_file_lines(\"Sample.txt\"):\n",
    "    print(line)"
   ]
  },
  {
   "cell_type": "markdown",
   "id": "7d9a171e-3c80-465b-b943-89e0dd57604d",
   "metadata": {},
   "source": [
    "---"
   ]
  },
  {
   "cell_type": "markdown",
   "id": "b3de7c0c-a245-4304-8811-c9ebd4ee4b21",
   "metadata": {},
   "source": [
    "### Q.8.Use a lambda function in Python to sort a list of tuples based on the second element of each tuple."
   ]
  },
  {
   "cell_type": "code",
   "execution_count": 27,
   "id": "5fbca84e-2fd1-49c5-bce4-eeac0319e274",
   "metadata": {},
   "outputs": [
    {
     "name": "stdout",
     "output_type": "stream",
     "text": [
      "[(2, 1), (4, 2), (1, 3), (3, 5)]\n"
     ]
    }
   ],
   "source": [
    "# create a list of tuples\n",
    "tuples_list = [(1, 3), (2, 1), (4, 2), (3, 5)]\n",
    "\n",
    "# sort the list based on the second element of each tuple using a lambda function\n",
    "tuples_list.sort(key=lambda x: x[1])\n",
    "\n",
    "# print the sorted list\n",
    "print(tuples_list)"
   ]
  },
  {
   "cell_type": "markdown",
   "id": "d7f2ce81-320c-477a-bf87-09459898a7d0",
   "metadata": {},
   "source": [
    "---"
   ]
  },
  {
   "cell_type": "markdown",
   "id": "122b9106-e6b4-42e8-9a37-7abce048a2e9",
   "metadata": {},
   "source": [
    "### Q.9.Write a Python program that uses `map()` to convert a list of temperatures from Celsius to Fahrenheit."
   ]
  },
  {
   "cell_type": "code",
   "execution_count": 28,
   "id": "617edbed-2c18-49dc-9bbc-8a964f4e589d",
   "metadata": {},
   "outputs": [
    {
     "name": "stdout",
     "output_type": "stream",
     "text": [
      "[32.0, 68.0, 98.6, 212.0]\n"
     ]
    }
   ],
   "source": [
    "# create a list of temperatures in Celsius\n",
    "celsius_temps = [0, 20, 37, 100]\n",
    "\n",
    "# define a function (using lambda) to convert Celsius to Fahrenheit\n",
    "fahrenheit_temps = list(map(lambda c: (c * 9/5) + 32, celsius_temps))\n",
    "\n",
    "# print the converted temperatures\n",
    "print(fahrenheit_temps)"
   ]
  },
  {
   "cell_type": "markdown",
   "id": "e1de86cc-1b01-4f7f-beed-169641581d63",
   "metadata": {},
   "source": [
    "---"
   ]
  },
  {
   "cell_type": "markdown",
   "id": "f36aafb2-9291-474d-acb3-668de2ddbf09",
   "metadata": {},
   "source": [
    "### Q.10.Create a Python program that uses `filter()` to remove all the vowels from a given string."
   ]
  },
  {
   "cell_type": "code",
   "execution_count": 29,
   "id": "731a1086-e674-4a46-9131-b8f2195b86e6",
   "metadata": {},
   "outputs": [
    {
     "name": "stdout",
     "output_type": "stream",
     "text": [
      "Hll Wrld\n"
     ]
    }
   ],
   "source": [
    "# define the input string\n",
    "text = \"Hello World\"\n",
    "\n",
    "# define a function to check if a character is not a vowel\n",
    "def not_vowel(char):\n",
    "    return char.lower() not in 'aeiou'\n",
    "\n",
    "# use filter() to remove vowels\n",
    "result = ''.join(filter(not_vowel, text))\n",
    "\n",
    "# print the result\n",
    "print(result)"
   ]
  },
  {
   "cell_type": "markdown",
   "id": "a13986e3-b977-41b9-90ec-1dbed5fa0245",
   "metadata": {},
   "source": [
    "---"
   ]
  },
  {
   "cell_type": "markdown",
   "id": "f58f1c52-204a-4ad9-b75c-e3af2b457702",
   "metadata": {},
   "source": [
    "![](screenshot.png)"
   ]
  },
  {
   "cell_type": "code",
   "execution_count": 23,
   "id": "6dc20f9b-1990-4ff1-93a2-d106a716e334",
   "metadata": {},
   "outputs": [
    {
     "name": "stdout",
     "output_type": "stream",
     "text": [
      "[(34587, 163.8), (98762, 284.0), (77226, 108.85000000000001), (88112, 84.97)]\n"
     ]
    }
   ],
   "source": [
    "# Step 1: Create the list of orders as sublists\n",
    "orders = [\n",
    "    [34587, \"Learning Python, Mark Lutz\", 4, 40.95],\n",
    "    [98762, \"Programming Python, Mark Lutz\", 5, 56.80],\n",
    "    [77226, \"Head First Python, Paul Barry\", 3, 32.95],\n",
    "    [88112, \"Einführung in Python3, Bernd Klein\", 3, 24.99]\n",
    "]\n",
    "\n",
    "# Step 2: Define a lambda function to calculate total price\n",
    "# If total < 100, add 10; otherwise, keep as is\n",
    "calculate_total = lambda order: (\n",
    "    order[0],  # order number\n",
    "    order[2] * order[3] + 10 if order[2] * order[3] < 100 else order[2] * order[3]\n",
    ")\n",
    "\n",
    "# Step 3: Use map to apply the lambda function to each order\n",
    "result = list(map(calculate_total, orders))\n",
    "\n",
    "# Step 4: Print the result\n",
    "print(result)"
   ]
  },
  {
   "cell_type": "markdown",
   "id": "5b03096d-7054-41ee-ac81-bcd11aff96bf",
   "metadata": {},
   "source": [
    "---"
   ]
  },
  {
   "cell_type": "code",
   "execution_count": null,
   "id": "149ee1a0-add6-4426-bb6d-c65d9ba9a9b8",
   "metadata": {},
   "outputs": [],
   "source": []
  }
 ],
 "metadata": {
  "kernelspec": {
   "display_name": "Python 3 (ipykernel)",
   "language": "python",
   "name": "python3"
  },
  "language_info": {
   "codemirror_mode": {
    "name": "ipython",
    "version": 3
   },
   "file_extension": ".py",
   "mimetype": "text/x-python",
   "name": "python",
   "nbconvert_exporter": "python",
   "pygments_lexer": "ipython3",
   "version": "3.12.4"
  }
 },
 "nbformat": 4,
 "nbformat_minor": 5
}

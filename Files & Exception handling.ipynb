{
 "cells": [
  {
   "cell_type": "markdown",
   "id": "42f21072-bebf-4265-8ced-378791a94c22",
   "metadata": {},
   "source": [
    "### Q1.What is the difference between interpreted and compiled languages?\n",
    "\n",
    "Compiled Languages: The source code is translated into machine code by a compiler before execution. This machine code is then run directly by the CPU. Examples include C, C++, and Go.\n",
    "\n",
    "Interpreted Languages: The source code is translated and executed line-by-line by an interpreter during runtime. Python is an interpreted language.\n",
    "\n",
    "---"
   ]
  },
  {
   "cell_type": "markdown",
   "id": "d6e762ac-5552-44e2-a819-40ba6ffcce2a",
   "metadata": {},
   "source": [
    "### Q2.What is exception handling in Python?\n",
    "\n",
    "Exception handling is a mechanism to deal with runtime errors or exceptional situations. It allows a program to continue running or terminate gracefully instead of crashing when an error occurs.\n",
    "\n",
    "---"
   ]
  },
  {
   "cell_type": "markdown",
   "id": "78e15c81-6964-4bd8-8f59-cf00dfb16538",
   "metadata": {},
   "source": [
    "### Q3.What is the purpose of the finally block in exception handling?\n",
    "\n",
    "The finally block contains code that will always be executed, regardless of whether an exception was raised in the try block or not. It is typically used for cleanup actions, like closing files or releasing resources.\n",
    "\n",
    "---"
   ]
  },
  {
   "cell_type": "markdown",
   "id": "2d319b52-a716-49af-8805-50f82501b6a3",
   "metadata": {},
   "source": [
    "### Q4.What is logging in Python?\n",
    "\n",
    "Logging is a means of tracking events that happen when a program runs. It provides a way to record status messages, errors, or warnings to a console or file for debugging and monitoring purposes.\n",
    "\n",
    "---"
   ]
  },
  {
   "cell_type": "markdown",
   "id": "c44d5222-66fa-40be-adce-5daeacf216ff",
   "metadata": {},
   "source": [
    "### Q5.What is the significance of the __del__ method in Python?\n",
    "\n",
    "The __del__ method, known as a destructor or finalizer, is called just before an object is destroyed by the garbage collector. Its use is discouraged for resource management (like closing files) because the exact timing of its execution is not guaranteed.\n",
    "\n",
    "---"
   ]
  },
  {
   "cell_type": "markdown",
   "id": "6dd90cd3-f1c1-4875-bedc-f8279165e385",
   "metadata": {},
   "source": [
    "### Q6.What is the difference between import and from ... import in Python?\n",
    "\n",
    "- import module: Imports the entire module. We must use the module's name as a prefix to access its functions or variables (e.g., math.sqrt(4)).\n",
    "- from module import function: Imports a specific function or variable directly into the current namespace. We can use it without the module prefix (e.g., sqrt(4))\n",
    "\n",
    "        # Using 'import'\n",
    "        import math\n",
    "        print(math.pi)\n",
    "        \n",
    "        # Using 'from...import'\n",
    "        from math import pi\n",
    "        print(pi)\n",
    "---"
   ]
  },
  {
   "cell_type": "markdown",
   "id": "acd977bf-2359-4c6d-b502-dfa8662ee99c",
   "metadata": {},
   "source": [
    "### Q7.How can you handle multiple exceptions in Python?\n",
    "\n",
    "We can list multiple exceptions in a tuple within a single except block.\n",
    "\n",
    "        try:\n",
    "            # Code that might raise ValueError or TypeError\n",
    "            x = int(\"text\")\n",
    "        except (ValueError, TypeError) as e:\n",
    "            print(f\"Caught an error: {e}\")\n",
    "\n",
    "---"
   ]
  },
  {
   "cell_type": "markdown",
   "id": "8be53363-ff2d-4230-abe3-f2bc7730f59d",
   "metadata": {},
   "source": [
    "### Q8.What is the purpose of the with statement when handling files in Python?\n",
    "\n",
    "The with statement simplifies resource management by ensuring that cleanup actions (like closing a file) are performed automatically after the block of code is executed, even if errors occur\n",
    "\n",
    "    # The file is automatically closed outside this block\n",
    "    with open(\"data.txt\", \"w\") as f:\n",
    "        f.write(\"Hello, World!\")\n",
    "---"
   ]
  },
  {
   "cell_type": "markdown",
   "id": "e18acad9-7b37-46bd-83ce-bed85fedc8c9",
   "metadata": {},
   "source": [
    "### Q9.What is the difference between multithreading and multiprocessing?\n",
    "\n",
    "- Multithreading: Multiple threads run within the same process, sharing the same memory space. In Python, due to the Global Interpreter Lock (GIL), true parallel execution on multiple CPU cores is not achieved for CPU-bound tasks. It is best for I/O-bound tasks.\n",
    "\n",
    "- Multiprocessing: Multiple processes run independently, each with its own memory space. This allows for true parallel execution on multiple CPU cores, making it suitable for CPU-bound tasks\n",
    "\n",
    "---"
   ]
  },
  {
   "cell_type": "markdown",
   "id": "b7c101c9-1a52-435f-a8db-75382ad1e297",
   "metadata": {},
   "source": [
    "### Q10.What are the advantages of using logging in a program?\n",
    "- Debugging: Provides detailed information about the program's execution flow and state.\n",
    "\n",
    "- Monitoring: Helps track the performance and health of a running application.\n",
    "\n",
    "- Auditing: Creates a record of events, such as user actions or important transactions.\n",
    "\n",
    "- Configurability: Logging levels allow you to control the amount of detail recorded without changing the code.\n",
    "\n",
    "---"
   ]
  },
  {
   "cell_type": "markdown",
   "id": "a8aca34d-033e-4f5c-bedc-fc81a555f276",
   "metadata": {},
   "source": [
    "### Q11.What is memory management in Python?\n",
    "\n",
    "Memory management is the process of allocating memory to objects when they are created and deallocating (freeing) it when they are no longer needed. In Python, this is handled automatically.\n",
    "\n",
    "---"
   ]
  },
  {
   "cell_type": "markdown",
   "id": "a06f7a5c-eae7-4ea5-9961-19bc37fb57c5",
   "metadata": {},
   "source": [
    "### Q12.What are the basic steps involved in exception handling in Python?\n",
    "- try: Enclose the code that might cause an exception.\n",
    "\n",
    "- except: If an exception occurs in the try block, the code in the except block is executed.\n",
    "\n",
    "- else (Optional): If no exception occurs, the code in the else block is executed.\n",
    "\n",
    "- finally (Optional): This code is always executed, whether an exception occurred or not.\n",
    "\n",
    "---"
   ]
  },
  {
   "cell_type": "markdown",
   "id": "0f6ccf8f-8a43-4778-bac1-68907498b1b5",
   "metadata": {},
   "source": [
    "### Q13.Why is memory management important in Python?\n",
    "- Prevents Memory Leaks: Automatic memory management ensures that memory used by objects that are no longer referenced is freed, preventing the program from consuming all available system memory.\n",
    "\n",
    "- Efficient Resource Use: It allows for the efficient allocation and reuse of memory, improving overall application performance\n",
    "\n",
    "---"
   ]
  },
  {
   "cell_type": "markdown",
   "id": "31ed5c38-69bd-4a39-a88a-57ac1a860e6f",
   "metadata": {},
   "source": [
    "### Q14.What is the role of try and except in exception handling?\n",
    "- try: The try block is used to wrap a section of code that is suspected of raising an exception.\n",
    "\n",
    "- except: The except block catches and handles the exception if one is raised in the corresponding try block.\n",
    "\n",
    "        try:\n",
    "            result = 10 / 0  # This will raise a ZeroDivisionError\n",
    "        except ZeroDivisionError:\n",
    "            print(\"You cannot divide by zero!\")\n",
    "---"
   ]
  },
  {
   "cell_type": "markdown",
   "id": "507fbd78-a20c-4aee-8cfa-ab6b8df3c0dd",
   "metadata": {},
   "source": [
    "### Q15.How does Python's garbage collection system work?\n",
    "- Python's primary garbage collection mechanism is reference counting. Every object has a count of how many variables are referencing it. When this count drops to zero, the object's memory is deallocated.\n",
    "\n",
    "- It also has a cyclic garbage collector that detects and cleans up reference cycles (e.g., object A refers to B, and B refers to A), which reference counting alone cannot handle.\n",
    "\n",
    "---"
   ]
  },
  {
   "cell_type": "markdown",
   "id": "c12f462a-9474-4b0f-b00f-1749bb2ed090",
   "metadata": {},
   "source": [
    "### Q16.What is the purpose of the else block in exception handling?\n",
    "\n",
    "The else block is executed only if the try block completes successfully without raising any exceptions. It is useful for code that should run only when the main operation succeeds.\n",
    "\n",
    "---"
   ]
  },
  {
   "cell_type": "markdown",
   "id": "8f207121-6a1b-470b-8d48-ff97e870d6ee",
   "metadata": {},
   "source": [
    "### Q17.What are the common logging levels in Python?\n",
    "\n",
    "They are listed in order of increasing severity:\n",
    "\n",
    "- DEBUG: Detailed information, typically of interest only when diagnosing problems.\n",
    "\n",
    "- INFO: Confirmation that things are working as expected.\n",
    "\n",
    "- WARNING: An indication that something unexpected happened, but the software is still working as expected.\n",
    "\n",
    "- ERROR: A more serious problem; the software has not been able to perform some function.\n",
    "\n",
    "- CRITICAL: A very serious error, indicating that the program itself may be unable to continue running.\n",
    "\n",
    "---"
   ]
  },
  {
   "cell_type": "markdown",
   "id": "fd89c398-36f2-484e-9020-b41b7515d774",
   "metadata": {},
   "source": [
    "### Q18.What is the difference between os.fork() and multiprocessing in Python?\n",
    "- os.fork(): A low-level system call available only on Unix-like systems. It creates an exact copy of the parent process, creating a child process. It is difficult to manage.\n",
    "\n",
    "- multiprocessing module: A high-level, cross-platform library that provides an easier and more robust way to create and manage processes. It is the recommended way to do multiprocessing in Python.\n",
    "\n",
    "---"
   ]
  },
  {
   "cell_type": "markdown",
   "id": "3113491d-f75b-43d3-96ba-5e8f5ae1ea9c",
   "metadata": {},
   "source": [
    "### Q19.What is the importance of closing a file in Python?\n",
    "- Resource Release: It releases the file handle back to the operating system, as there is a limit to the number of files a process can have open at once.\n",
    "\n",
    "- Data Integrity: It ensures that any data held in internal buffers is written (flushed) to the storage device, preventing data loss.\n",
    "\n",
    "---"
   ]
  },
  {
   "cell_type": "markdown",
   "id": "07928f96-d722-44eb-8044-fd4522259e4a",
   "metadata": {},
   "source": [
    "### Q20.What is the difference between file.read() and file.readline() in Python?\n",
    "- file.read(size): Reads and returns the entire file content as a single string. If a size argument is provided, it reads that many bytes.\n",
    "\n",
    "- file.readline(): Reads and returns a single line from the file, including the newline character \\n at the end.\n",
    "\n",
    "        with open(\"sample.txt\", \"w\") as f:\n",
    "            f.write(\"First line\\n\")\n",
    "            f.write(\"Second line\\n\")\n",
    "        \n",
    "        with open(\"sample.txt\", \"r\") as f:\n",
    "            # Reads the whole file\n",
    "            print(\"read():\", f.read())\n",
    "        \n",
    "        with open(\"sample.txt\", \"r\") as f:\n",
    "            # Reads only the first line\n",
    "            print(\"readline():\", f.readline())\n",
    "---"
   ]
  },
  {
   "cell_type": "markdown",
   "id": "42b04523-5614-440a-9e1b-a081fd485c1e",
   "metadata": {},
   "source": [
    "### Q21.What is the logging module in Python used for?\n",
    "\n",
    "The logging module is Python's standard library for implementing a flexible event logging system for applications and libraries. It allows developers to configure logging output, levels, and formats.\n",
    "\n",
    "---"
   ]
  },
  {
   "cell_type": "markdown",
   "id": "7e0aacdc-88d5-4531-9e03-ed8a2e91c772",
   "metadata": {},
   "source": [
    "### Q22.What is the os module in Python used for in file handling?\n",
    "The os module provides a way of using operating system-dependent functionality. For file handling, it's used for:\n",
    "\n",
    "- Path manipulation: os.path.join(), os.path.exists()\n",
    "\n",
    "- Directory operations: os.mkdir(), os.listdir(), os.rmdir()\n",
    "\n",
    "- File operations: os.remove(), os.rename()\n",
    "\n",
    "---"
   ]
  },
  {
   "cell_type": "markdown",
   "id": "dc0d688f-b316-4a52-84a4-f1e7b7a8ae72",
   "metadata": {},
   "source": [
    "### Q23.What are the challenges associated with memory management in Python?\n",
    "- Memory Fragmentation: Over time, memory can become fragmented into small, non-contiguous blocks, which may make it difficult to allocate a large, contiguous block of memory even if the total free memory is sufficient.\n",
    "\n",
    "- Overhead: The reference counting mechanism adds a small amount of performance overhead to every object assignment.\n",
    "\n",
    "---"
   ]
  },
  {
   "cell_type": "markdown",
   "id": "a5860029-c222-4b60-bb4a-a94199008cbb",
   "metadata": {},
   "source": [
    "### Q24.How do you raise an exception manually in Python?\n",
    "\n",
    "We use the raise keyword, followed by an instance of an exception class.\n",
    "\n",
    "    def check_age(age):\n",
    "        if age < 18:\n",
    "            raise ValueError(\"Age must be 18 or older.\")\n",
    "        print(\"Access granted.\")\n",
    "    \n",
    "    try:\n",
    "        check_age(15)\n",
    "    except ValueError as e:\n",
    "        print(f\"Error: {e}\")\n",
    "---"
   ]
  },
  {
   "cell_type": "markdown",
   "id": "9a9737ea-4711-4c5a-8ba8-888603dab23c",
   "metadata": {},
   "source": [
    "### Q25.Why is it important to use multithreading in certain applications?\n",
    "\n",
    "Multithreading is important for improving the responsiveness of applications, especially those with graphical user interfaces (GUIs) or that perform I/O operations (like network requests or file access). It allows long-running tasks to execute in the background without freezing the main application.\n",
    "\n",
    "---"
   ]
  },
  {
   "cell_type": "markdown",
   "id": "4e79f088-6f71-4a06-a7d8-dba4b02e14f2",
   "metadata": {},
   "source": [
    "# Practical Questions"
   ]
  },
  {
   "cell_type": "markdown",
   "id": "33a149f3-2c2b-4258-bee7-da9361f6b515",
   "metadata": {},
   "source": [
    "### Q1.How can you open a file for writing in Python and write a string to it"
   ]
  },
  {
   "cell_type": "code",
   "execution_count": 5,
   "id": "fc885d7e-2ae0-449e-9551-5827f2b36729",
   "metadata": {},
   "outputs": [
    {
     "name": "stdout",
     "output_type": "stream",
     "text": [
      "Successfully wrote to output.txt\n"
     ]
    }
   ],
   "source": [
    "# Use the 'with' statement for safe file handling\n",
    "# 'w' mode is for writing. If the file doesn't exist, it's created.\n",
    "# If it exists, its contents are overwritten.\n",
    "with open('output.txt', 'w') as file:\n",
    "    # The string to be written to the file\n",
    "    text_to_write = \"Hello, this is a test file.\"\n",
    "    \n",
    "    # Write the string to the file\n",
    "    file.write(text_to_write)\n",
    "    \n",
    "print(\"Successfully wrote to output.txt\")"
   ]
  },
  {
   "cell_type": "markdown",
   "id": "0abd8365-35b2-424e-8655-1251dba0b7cc",
   "metadata": {},
   "source": [
    "---"
   ]
  },
  {
   "cell_type": "markdown",
   "id": "89a79b80-5d1e-4451-849c-bbfb53d43945",
   "metadata": {},
   "source": [
    "### Q2.Write a Python program to read the contents of a file and print each line"
   ]
  },
  {
   "cell_type": "code",
   "execution_count": 7,
   "id": "f3966f22-c0f4-465b-b8a5-1e3b81294109",
   "metadata": {},
   "outputs": [
    {
     "name": "stdout",
     "output_type": "stream",
     "text": [
      "First line.\n",
      "Second line.\n",
      "Third line.\n"
     ]
    }
   ],
   "source": [
    "# Assume 'sample.txt' exists with some content\n",
    "with open('sample.txt', 'w') as f:\n",
    "    f.write(\"First line.\\n\")\n",
    "    f.write(\"Second line.\\n\")\n",
    "    f.write(\"Third line.\\n\")\n",
    "\n",
    "# 'r' mode is for reading\n",
    "with open('sample.txt', 'r') as file:\n",
    "    # Loop through each line in the file object\n",
    "    for line in file:\n",
    "        # print() adds its own newline, so use strip() to remove the one from the file\n",
    "        print(line.strip())"
   ]
  },
  {
   "cell_type": "markdown",
   "id": "0b6f7c53-4367-4657-a992-7221a51a0ae5",
   "metadata": {},
   "source": [
    "---"
   ]
  },
  {
   "cell_type": "markdown",
   "id": "069aeff6-a024-417c-a032-07fe9868ad50",
   "metadata": {},
   "source": [
    "### Q3.How would you handle a case where the file doesn't exist while trying to open it for reading"
   ]
  },
  {
   "cell_type": "code",
   "execution_count": 9,
   "id": "06d52c02-acf8-453f-8aaf-bed7cdb23bfb",
   "metadata": {},
   "outputs": [
    {
     "name": "stdout",
     "output_type": "stream",
     "text": [
      "Error: The file was not found.\n"
     ]
    }
   ],
   "source": [
    "try:\n",
    "    # Attempt to open a file that may not exist\n",
    "    with open('non_existent_file.txt', 'r') as file:\n",
    "        content = file.read()\n",
    "        print(content)\n",
    "# Catch the specific error for a file not being found\n",
    "except FileNotFoundError:\n",
    "    print(\"Error: The file was not found.\")\n",
    "# Catch any other potential I/O errors\n",
    "except IOError as e:\n",
    "    print(f\"An I/O error occurred: {e}\")"
   ]
  },
  {
   "cell_type": "markdown",
   "id": "6c80e4ec-fe15-448b-9c82-563b39189593",
   "metadata": {},
   "source": [
    "---"
   ]
  },
  {
   "cell_type": "markdown",
   "id": "85f64cb1-46e5-43b2-85e8-1cbea2c96475",
   "metadata": {},
   "source": [
    "### Q4.Write a Python script that reads from one file and writes its content to another file"
   ]
  },
  {
   "cell_type": "code",
   "execution_count": 11,
   "id": "6659939b-ded8-44da-9f7e-d8591e94e403",
   "metadata": {},
   "outputs": [
    {
     "name": "stdout",
     "output_type": "stream",
     "text": [
      "Successfully copied content from 'source.txt' to 'destination.txt'\n"
     ]
    }
   ],
   "source": [
    "# Define source and destination filenames\n",
    "source_file = 'source.txt'\n",
    "destination_file = 'destination.txt'\n",
    "\n",
    "# Create a source file for demonstration\n",
    "with open(source_file, 'w') as f:\n",
    "    f.write(\"This content will be copied.\")\n",
    "\n",
    "try:\n",
    "    # Open the source file for reading ('r')\n",
    "    with open(source_file, 'r') as src:\n",
    "        # Open the destination file for writing ('w')\n",
    "        with open(destination_file, 'w') as dest:\n",
    "            # Read the entire content from the source\n",
    "            content = src.read()\n",
    "            # Write that content to the destination\n",
    "            dest.write(content)\n",
    "    print(f\"Successfully copied content from '{source_file}' to '{destination_file}'\")\n",
    "except FileNotFoundError:\n",
    "    print(f\"Error: The source file '{source_file}' was not found.\")"
   ]
  },
  {
   "cell_type": "markdown",
   "id": "ab2cc022-89fa-4454-a068-8f63e1665477",
   "metadata": {},
   "source": [
    "---"
   ]
  },
  {
   "cell_type": "markdown",
   "id": "c79dce82-6159-4815-abd9-a48efd0c43e5",
   "metadata": {},
   "source": [
    "### Q5.How would you catch and handle division by zero error in Python"
   ]
  },
  {
   "cell_type": "code",
   "execution_count": 13,
   "id": "d92ce765-a2a9-4286-be85-98227b95fa0a",
   "metadata": {},
   "outputs": [
    {
     "name": "stdout",
     "output_type": "stream",
     "text": [
      "Error: Cannot divide by zero.\n"
     ]
    }
   ],
   "source": [
    "numerator = 10\n",
    "denominator = 0\n",
    "\n",
    "try:\n",
    "    # This line will cause a ZeroDivisionError\n",
    "    result = numerator / denominator\n",
    "    print(f\"The result is {result}\")\n",
    "# Catch the specific error for division by zero\n",
    "except ZeroDivisionError:\n",
    "    print(\"Error: Cannot divide by zero.\")"
   ]
  },
  {
   "cell_type": "markdown",
   "id": "8d5f4e93-7334-45cc-93d6-32aadc8e8a28",
   "metadata": {},
   "source": [
    "---"
   ]
  },
  {
   "cell_type": "markdown",
   "id": "9940142e-af4d-4ac6-bcb1-5c560a50cb5e",
   "metadata": {},
   "source": [
    "### Q6.Write a Python program that logs an error message to a log file when a division by zero exception occurs"
   ]
  },
  {
   "cell_type": "code",
   "execution_count": 15,
   "id": "6625ffdd-98be-4c9f-b505-902d19f1446c",
   "metadata": {},
   "outputs": [
    {
     "name": "stdout",
     "output_type": "stream",
     "text": [
      "An error occurred. Check 'app_errors.log' for details.\n"
     ]
    }
   ],
   "source": [
    "import logging\n",
    "\n",
    "# Configure logging to write to a file named 'app_errors.log'\n",
    "# level=logging.ERROR means only ERROR level messages and above will be logged\n",
    "logging.basicConfig(filename='app_errors.log', level=logging.ERROR, \n",
    "                    format='%(asctime)s - %(levelname)s - %(message)s')\n",
    "\n",
    "try:\n",
    "    result = 10 / 0\n",
    "except ZeroDivisionError:\n",
    "    # Log the error message to the file\n",
    "    logging.error(\"Division by zero occurred.\")\n",
    "    print(\"An error occurred. Check 'app_errors.log' for details.\")"
   ]
  },
  {
   "cell_type": "markdown",
   "id": "a971038f-55a0-4492-bcf1-fb1e3113d3cf",
   "metadata": {},
   "source": [
    "---"
   ]
  },
  {
   "cell_type": "markdown",
   "id": "9934b40b-33ff-4446-b40c-775bf0278dcd",
   "metadata": {},
   "source": [
    "### Q7.How do you log information at different levels (INFO, ERROR, WARNING) in Python using the logging module"
   ]
  },
  {
   "cell_type": "code",
   "execution_count": 17,
   "id": "1aaafbf4-871b-4a78-9ca9-2a303d5f5601",
   "metadata": {},
   "outputs": [],
   "source": [
    "import logging\n",
    "\n",
    "# Configure basic logging to the console\n",
    "logging.basicConfig(level=logging.DEBUG, # Set the lowest level to capture all messages\n",
    "                    format='%(asctime)s - %(levelname)s - %(message)s')\n",
    "\n",
    "# Log messages at different severity levels\n",
    "logging.debug(\"This is a detailed debug message.\")\n",
    "logging.info(\"This is an informational message about the program's status.\")\n",
    "logging.warning(\"This is a warning. The program is still working, but something is off.\")\n",
    "logging.error(\"An error occurred. A function failed.\")\n",
    "logging.critical(\"A critical error occurred. The application might crash.\")"
   ]
  },
  {
   "cell_type": "markdown",
   "id": "af469b10-5067-45f5-b0e1-58b2da660727",
   "metadata": {},
   "source": [
    "---"
   ]
  },
  {
   "cell_type": "markdown",
   "id": "2074ffec-5383-4152-890c-638f7fbf3b71",
   "metadata": {},
   "source": [
    "### Q8.Write a program to handle a file opening error using exception handling"
   ]
  },
  {
   "cell_type": "code",
   "execution_count": 19,
   "id": "30b0f4dc-f70a-4084-8972-f4fa365b8c89",
   "metadata": {},
   "outputs": [
    {
     "name": "stdout",
     "output_type": "stream",
     "text": [
      "Error: The file at 'missing_file.txt' could not be found.\n"
     ]
    }
   ],
   "source": [
    "file_path = 'missing_file.txt'\n",
    "try:\n",
    "    # Attempt to open a file that doesn't exist\n",
    "    with open(file_path, 'r') as file:\n",
    "        print(\"File opened successfully.\")\n",
    "# Catch the FileNotFoundError\n",
    "except FileNotFoundError:\n",
    "    print(f\"Error: The file at '{file_path}' could not be found.\")"
   ]
  },
  {
   "cell_type": "markdown",
   "id": "c23ecc95-7cfb-4b70-aa64-1abf192f76a0",
   "metadata": {},
   "source": [
    "---"
   ]
  },
  {
   "cell_type": "markdown",
   "id": "9ce528ea-3fc9-44d4-ab92-9d52c5e9e6fe",
   "metadata": {},
   "source": [
    "### Q9.How can you read a file line by line and store its content in a list in Python"
   ]
  },
  {
   "cell_type": "code",
   "execution_count": 21,
   "id": "9b901c54-f6e4-4d87-8405-d78b7b748f40",
   "metadata": {},
   "outputs": [
    {
     "name": "stdout",
     "output_type": "stream",
     "text": [
      "['Apple', 'Banana', 'Cherry']\n"
     ]
    }
   ],
   "source": [
    "# Create a sample file\n",
    "with open('lines_file.txt', 'w') as f:\n",
    "    f.write(\"Apple\\n\")\n",
    "    f.write(\"Banana\\n\")\n",
    "    f.write(\"Cherry\\n\")\n",
    "\n",
    "lines_list = []\n",
    "with open('lines_file.txt', 'r') as file:\n",
    "    # The readlines() method reads all lines and returns them as a list of strings\n",
    "    lines_list = file.readlines()\n",
    "\n",
    "# Optional: Remove newline characters from each line\n",
    "lines_list = [line.strip() for line in lines_list]\n",
    "\n",
    "print(lines_list) # Output: ['Apple', 'Banana', 'Cherry']"
   ]
  },
  {
   "cell_type": "markdown",
   "id": "31cdba13-d880-4686-bbae-7ccd928e3986",
   "metadata": {},
   "source": [
    "---"
   ]
  },
  {
   "cell_type": "markdown",
   "id": "674da60c-d7e4-4e33-91f5-a4a735013e32",
   "metadata": {},
   "source": [
    "### Q10.How can you append data to an existing file in Python"
   ]
  },
  {
   "cell_type": "code",
   "execution_count": 23,
   "id": "66dc6f22-ce32-4821-93ca-9d26c3a9a828",
   "metadata": {},
   "outputs": [
    {
     "name": "stdout",
     "output_type": "stream",
     "text": [
      "Data appended to log.txt\n"
     ]
    }
   ],
   "source": [
    "# Open the file in append mode ('a')\n",
    "# This adds new content to the end of the file without deleting existing content.\n",
    "with open('log.txt', 'a') as file:\n",
    "    file.write(\"New log entry appended to the file.\\n\")\n",
    "    \n",
    "print(\"Data appended to log.txt\")"
   ]
  },
  {
   "cell_type": "markdown",
   "id": "91ec929d-76fa-4b75-a155-e1fee1f1cc65",
   "metadata": {},
   "source": [
    "---"
   ]
  },
  {
   "cell_type": "markdown",
   "id": "6ed268d4-dace-4e8c-8751-d36a7e0f5205",
   "metadata": {},
   "source": [
    "### Q11.Write a Python program that uses a try-except block to handle an error when attempting to access a dictionary key that doesn't exist"
   ]
  },
  {
   "cell_type": "code",
   "execution_count": 28,
   "id": "e6a2428c-6096-47df-ad12-728f4146f7a0",
   "metadata": {},
   "outputs": [
    {
     "name": "stdout",
     "output_type": "stream",
     "text": [
      "Error: The specified key does not exist in the dictionary.\n"
     ]
    }
   ],
   "source": [
    "my_dict = {'name': 'Himanshu', 'age': 21}\n",
    "\n",
    "try:\n",
    "    # Attempt to access a key that does not exist\n",
    "    print(my_dict['city'])\n",
    "# Catch the specific error for a missing dictionary key\n",
    "except KeyError:\n",
    "    print(\"Error: The specified key does not exist in the dictionary.\")"
   ]
  },
  {
   "cell_type": "markdown",
   "id": "3cc3f1c0-b174-4b37-93b6-c05383cadc59",
   "metadata": {},
   "source": [
    "---"
   ]
  },
  {
   "cell_type": "markdown",
   "id": "dd8adffb-3dee-4af3-ba03-6cba464d57f3",
   "metadata": {},
   "source": [
    "### Q12.Write a program that demonstrates using multiple except blocks to handle different types of exceptions"
   ]
  },
  {
   "cell_type": "code",
   "execution_count": 30,
   "id": "c543903a-1111-40af-a80e-942d04366da1",
   "metadata": {},
   "outputs": [
    {
     "name": "stdout",
     "output_type": "stream",
     "text": [
      "Error: Operation performed on an incompatible type.\n"
     ]
    }
   ],
   "source": [
    "try:\n",
    "    # Change the value of x to see different outcomes\n",
    "    # x = \"hello\"  # Will cause TypeError\n",
    "    # x = 0        # Will cause ZeroDivisionError\n",
    "    x = 10\n",
    "    \n",
    "    result = 100 / x\n",
    "    print(result[0]) # Will cause TypeError if x is not 0\n",
    "\n",
    "# Handles division by zero\n",
    "except ZeroDivisionError:\n",
    "    print(\"Error: Cannot divide by zero.\")\n",
    "# Handles operations on incorrect types\n",
    "except TypeError:\n",
    "    print(\"Error: Operation performed on an incompatible type.\")\n",
    "# A general catch-all for any other exceptions\n",
    "except Exception as e:\n",
    "    print(f\"An unexpected error occurred: {e}\")"
   ]
  },
  {
   "cell_type": "markdown",
   "id": "af7f3088-5dcd-4848-8626-54ba35723395",
   "metadata": {},
   "source": [
    "---"
   ]
  },
  {
   "cell_type": "markdown",
   "id": "c30b2023-2e81-4a14-ab43-9d619f0573ab",
   "metadata": {},
   "source": [
    "### Q13.How would you check if a file exists before attempting to read it in Python"
   ]
  },
  {
   "cell_type": "code",
   "execution_count": 32,
   "id": "4c957da8-63e7-40ad-a709-1a569561bc90",
   "metadata": {},
   "outputs": [
    {
     "name": "stdout",
     "output_type": "stream",
     "text": [
      "The file 'data.txt' does not exist.\n"
     ]
    }
   ],
   "source": [
    "import os\n",
    "\n",
    "file_path = 'data.txt'\n",
    "\n",
    "# os.path.exists() returns True if the path exists, False otherwise\n",
    "if os.path.exists(file_path):\n",
    "    with open(file_path, 'r') as file:\n",
    "        print(\"File exists. Reading content:\")\n",
    "        print(file.read())\n",
    "else:\n",
    "    print(f\"The file '{file_path}' does not exist.\")"
   ]
  },
  {
   "cell_type": "markdown",
   "id": "0ec62bda-eda4-44bf-916b-28f199709d90",
   "metadata": {},
   "source": [
    "---"
   ]
  },
  {
   "cell_type": "markdown",
   "id": "c9e97573-9549-4c8b-8076-7fcbf90154ff",
   "metadata": {},
   "source": [
    "### Q14.Write a program that uses the logging module to log both informational and error messages"
   ]
  },
  {
   "cell_type": "code",
   "execution_count": 34,
   "id": "9a2d797b-0c46-4e4a-8a55-94c875c3dee7",
   "metadata": {},
   "outputs": [],
   "source": [
    "import logging\n",
    "\n",
    "logging.basicConfig(filename='program_log.log', level=logging.INFO,\n",
    "                    format='%(asctime)s - %(levelname)s - %(message)s')\n",
    "\n",
    "def divide(a, b):\n",
    "    logging.info(f\"Attempting to divide {a} by {b}\")\n",
    "    try:\n",
    "        result = a / b\n",
    "        logging.info(f\"Division successful. Result is {result}\")\n",
    "        return result\n",
    "    except ZeroDivisionError:\n",
    "        logging.error(f\"Failed to divide {a} by {b}: Division by zero.\")\n",
    "        return None\n",
    "\n",
    "# Call the function\n",
    "divide(10, 2)\n",
    "divide(10, 0)"
   ]
  },
  {
   "cell_type": "markdown",
   "id": "6ec1de49-6e56-45d7-9539-90713ae5533e",
   "metadata": {},
   "source": [
    "---"
   ]
  },
  {
   "cell_type": "markdown",
   "id": "0f98222e-aff7-4c61-b6f2-f06186d40b69",
   "metadata": {},
   "source": [
    "### Q15.Write a Python program that prints the content of a file and handles the case when the file is empty"
   ]
  },
  {
   "cell_type": "code",
   "execution_count": 36,
   "id": "3b97372c-688c-4c42-a1b6-9b63fe2dec1b",
   "metadata": {},
   "outputs": [
    {
     "name": "stdout",
     "output_type": "stream",
     "text": [
      "The file is empty.\n"
     ]
    }
   ],
   "source": [
    "# Create an empty file for testing\n",
    "open('empty_file.txt', 'w').close()\n",
    "\n",
    "with open('empty_file.txt', 'r') as file:\n",
    "    content = file.read()\n",
    "    # Check if the content string is empty\n",
    "    if not content:\n",
    "        print(\"The file is empty.\")\n",
    "    else:\n",
    "        print(\"File content:\")\n",
    "        print(content)"
   ]
  },
  {
   "cell_type": "markdown",
   "id": "0e033eb1-f546-4f64-8741-b60e3b53cdec",
   "metadata": {},
   "source": [
    "---"
   ]
  },
  {
   "cell_type": "markdown",
   "id": "2b0e0b43-004e-460a-8471-96d57a4b8c27",
   "metadata": {},
   "source": [
    "### Q16.Demonstrate how to use memory profiling to check the memory usage of a small program"
   ]
  },
  {
   "cell_type": "code",
   "execution_count": 1,
   "id": "d6457111-9fdd-4d0f-85f6-e9b01540b045",
   "metadata": {},
   "outputs": [
    {
     "name": "stdout",
     "output_type": "stream",
     "text": [
      "ERROR: Could not find file C:\\Users\\Rk\\AppData\\Local\\Temp\\ipykernel_11820\\2874395101.py\n"
     ]
    }
   ],
   "source": [
    "# Save this code as 'memory_test.py'\n",
    "from memory_profiler import profile\n",
    "\n",
    "# The @profile decorator tracks the memory usage of this function\n",
    "@profile\n",
    "def create_large_list():\n",
    "    # Create a list with 1 million integers\n",
    "    large_list = [i for i in range(1000000)]\n",
    "    # Create another list with 5 million floats\n",
    "    another_list = [float(i) for i in range(5000000)]\n",
    "    # The memory usage will be reported after the function finishes\n",
    "    return large_list, another_list\n",
    "\n",
    "if __name__ == '__main__':\n",
    "    create_large_list()\n",
    "\n",
    "# TO run this we need to use the following command on terminal:\n",
    "    # python -m memory_profiler memory_test.py"
   ]
  },
  {
   "cell_type": "markdown",
   "id": "b84d3885-b73d-40c7-a2c0-60f0bb3633eb",
   "metadata": {},
   "source": [
    "---"
   ]
  },
  {
   "cell_type": "markdown",
   "id": "f39167cc-403c-48ed-9797-356be7b3ad79",
   "metadata": {},
   "source": [
    "### Q17.Write a Python program to create and write a list of numbers to a file, one number per line"
   ]
  },
  {
   "cell_type": "code",
   "execution_count": 3,
   "id": "6ecafe73-b651-4bce-a55c-a3bd255a5a6c",
   "metadata": {},
   "outputs": [
    {
     "name": "stdout",
     "output_type": "stream",
     "text": [
      "List of numbers written to numbers.txt\n"
     ]
    }
   ],
   "source": [
    "numbers = [10, 20, 30, 40, 50]\n",
    "\n",
    "with open('numbers.txt', 'w') as file:\n",
    "    # Iterate over the list of numbers\n",
    "    for num in numbers:\n",
    "        # Convert the number to a string and add a newline character\n",
    "        file.write(str(num) + '\\n')\n",
    "\n",
    "print(\"List of numbers written to numbers.txt\")"
   ]
  },
  {
   "cell_type": "markdown",
   "id": "73f5a4b0-e1b5-4bc9-afff-54d51b0e59be",
   "metadata": {},
   "source": [
    "---"
   ]
  },
  {
   "cell_type": "markdown",
   "id": "eac68ab0-007a-42a0-bb97-90d5169f495a",
   "metadata": {},
   "source": [
    "### Q18.How would you implement a basic logging setup that logs to a file with rotation after 1MB"
   ]
  },
  {
   "cell_type": "code",
   "execution_count": 5,
   "id": "d72ec553-df34-438c-b154-c69b6ea3c30c",
   "metadata": {},
   "outputs": [],
   "source": [
    "import logging\n",
    "from logging.handlers import RotatingFileHandler\n",
    "import time\n",
    "\n",
    "# Create a logger\n",
    "log = logging.getLogger('my_app')\n",
    "log.setLevel(logging.INFO)\n",
    "\n",
    "# Create a rotating file handler\n",
    "# This will create up to 5 backup files (my_app.log.1, .2, etc.)\n",
    "# It rotates when the log file reaches 1 MB (1024*1024 bytes)\n",
    "handler = RotatingFileHandler('my_app.log', maxBytes=1024*1024, backupCount=5)\n",
    "\n",
    "# Create a logging format\n",
    "formatter = logging.Formatter('%(asctime)s - %(name)s - %(levelname)s - %(message)s')\n",
    "handler.setFormatter(formatter)\n",
    "\n",
    "# Add the handler to the logger\n",
    "log.addHandler(handler)\n",
    "\n",
    "# Log some messages\n",
    "log.info(\"Application starting up.\")\n",
    "log.warning(\"This is a test warning.\")\n",
    "log.info(\"Application finished.\")"
   ]
  },
  {
   "cell_type": "markdown",
   "id": "db881d64-da10-4043-a4dc-e07f502cee03",
   "metadata": {},
   "source": [
    "---"
   ]
  },
  {
   "cell_type": "markdown",
   "id": "157f8316-ac9e-4848-9522-1077b19e888b",
   "metadata": {},
   "source": [
    "### Q19.Write a program that handles both IndexError and KeyError using a try-except block"
   ]
  },
  {
   "cell_type": "code",
   "execution_count": 7,
   "id": "ed048c9d-278a-4d0e-b6c3-7b7ed0154394",
   "metadata": {},
   "outputs": [
    {
     "name": "stdout",
     "output_type": "stream",
     "text": [
      "An error occurred: 'b'\n",
      "This could be an invalid index for a list or a non-existent key for a dictionary.\n"
     ]
    }
   ],
   "source": [
    "my_list = [1, 2, 3]\n",
    "my_dict = {'a': 1}\n",
    "\n",
    "try:\n",
    "    # Uncomment one of the following lines to test\n",
    "    # value = my_list[5]   # This will raise an IndexError\n",
    "    value = my_dict['b'] # This will raise a KeyError\n",
    "\n",
    "# You can catch multiple exceptions in a single block using a tuple\n",
    "except (IndexError, KeyError) as e:\n",
    "    print(f\"An error occurred: {e}\")\n",
    "    print(\"This could be an invalid index for a list or a non-existent key for a dictionary.\")"
   ]
  },
  {
   "cell_type": "markdown",
   "id": "560b8a43-f76a-42be-aa56-0782c0f03624",
   "metadata": {},
   "source": [
    "---"
   ]
  },
  {
   "cell_type": "markdown",
   "id": "bc64483c-c17c-46b3-a9be-03eb961b0ba8",
   "metadata": {},
   "source": [
    "### Q20.How would you open a file and read its contents using a context manager in Python"
   ]
  },
  {
   "cell_type": "code",
   "execution_count": 9,
   "id": "6ad01cdf-2198-4b4d-a6df-8496675593fc",
   "metadata": {},
   "outputs": [
    {
     "name": "stdout",
     "output_type": "stream",
     "text": [
      "Content read using 'with' statement:\n",
      "This file was created using a context manager.\n"
     ]
    }
   ],
   "source": [
    "# The 'with' statement is the context manager for file operations.\n",
    "# It automatically handles closing the file when the block is exited.\n",
    "file_path = 'context_example.txt'\n",
    "with open(file_path, 'w') as f:\n",
    "    f.write('This file was created using a context manager.')\n",
    "\n",
    "try:\n",
    "    with open(file_path, 'r') as file:\n",
    "        content = file.read()\n",
    "        print(\"Content read using 'with' statement:\")\n",
    "        print(content)\n",
    "except FileNotFoundError:\n",
    "    print(f\"File '{file_path}' not found.\")\n",
    "\n",
    "# Outside the 'with' block, the file is guaranteed to be closed.\n",
    "# print(file.closed) # Output: True"
   ]
  },
  {
   "cell_type": "markdown",
   "id": "72d86867-353c-4c90-ab65-10590c32ed82",
   "metadata": {},
   "source": [
    "---"
   ]
  },
  {
   "cell_type": "markdown",
   "id": "3a511469-69bd-4b75-9952-9b4f63dbe309",
   "metadata": {},
   "source": [
    "### Q21.Write a Python program that reads a file and prints the number of occurrences of a specific word"
   ]
  },
  {
   "cell_type": "code",
   "execution_count": 11,
   "id": "588b2d4c-636e-4181-8faf-ba2ae18380f1",
   "metadata": {},
   "outputs": [
    {
     "name": "stdout",
     "output_type": "stream",
     "text": [
      "The word 'Python' appears 3 times.\n"
     ]
    }
   ],
   "source": [
    "# Create a file with sample text\n",
    "with open('word_count_file.txt', 'w') as f:\n",
    "    f.write(\"Python is a great language. I love learning Python because Python is versatile.\")\n",
    "\n",
    "word_to_find = 'Python'\n",
    "count = 0\n",
    "\n",
    "with open('word_count_file.txt', 'r') as file:\n",
    "    # Read the entire file content\n",
    "    content = file.read()\n",
    "    # Split the content into a list of words\n",
    "    words = content.split()\n",
    "    # Count the occurrences of the specific word\n",
    "    count = words.count(word_to_find)\n",
    "\n",
    "print(f\"The word '{word_to_find}' appears {count} times.\") # Output: 3"
   ]
  },
  {
   "cell_type": "markdown",
   "id": "184cd2f5-4f91-46f5-993d-9d9926c05160",
   "metadata": {},
   "source": [
    "---"
   ]
  },
  {
   "cell_type": "markdown",
   "id": "da52c106-d4f3-4f1e-9f85-8df62ab634fd",
   "metadata": {},
   "source": [
    "### Q22.How can you check if a file is empty before attempting to read its contents"
   ]
  },
  {
   "cell_type": "code",
   "execution_count": 13,
   "id": "d182f5fb-6bba-492f-bb8f-0f6753963baa",
   "metadata": {},
   "outputs": [
    {
     "name": "stdout",
     "output_type": "stream",
     "text": [
      "The file 'maybe_empty.txt' is empty or does not exist.\n"
     ]
    }
   ],
   "source": [
    "import os\n",
    "\n",
    "file_path = 'maybe_empty.txt'\n",
    "\n",
    "# Create an empty file for demonstration\n",
    "open(file_path, 'w').close()\n",
    "\n",
    "# os.path.getsize() returns the size of the file in bytes\n",
    "if os.path.exists(file_path) and os.path.getsize(file_path) > 0:\n",
    "    with open(file_path, 'r') as file:\n",
    "        print(\"File is not empty. Reading content:\")\n",
    "        print(file.read())\n",
    "else:\n",
    "    print(f\"The file '{file_path}' is empty or does not exist.\")"
   ]
  },
  {
   "cell_type": "markdown",
   "id": "8dabda90-5379-4cc5-8dbf-07b2b5144545",
   "metadata": {},
   "source": [
    "---"
   ]
  },
  {
   "cell_type": "markdown",
   "id": "b97ebe38-7f70-4399-9bc4-ddf5198d026e",
   "metadata": {},
   "source": [
    "### Q23.Write a Python program that writes to a log file when an error occurs during file handling."
   ]
  },
  {
   "cell_type": "code",
   "execution_count": 15,
   "id": "82dc2987-9f85-4871-a472-d295c40f2817",
   "metadata": {},
   "outputs": [
    {
     "name": "stdout",
     "output_type": "stream",
     "text": [
      "Error: Could not find non_existent.txt. Check file_handler.log.\n"
     ]
    }
   ],
   "source": [
    "import logging\n",
    "\n",
    "# Configure logging to a file\n",
    "logging.basicConfig(filename='file_handler.log', level=logging.ERROR,\n",
    "                    format='%(asctime)s - %(levelname)s - %(message)s')\n",
    "\n",
    "def read_file_safely(filepath):\n",
    "    try:\n",
    "        with open(filepath, 'r') as file:\n",
    "            return file.read()\n",
    "    except FileNotFoundError as e:\n",
    "        # Log the specific error message to the log file\n",
    "        logging.error(f\"File not found at path: {filepath}. Details: {e}\")\n",
    "        print(f\"Error: Could not find {filepath}. Check file_handler.log.\")\n",
    "        return None\n",
    "    except Exception as e:\n",
    "        logging.error(f\"An unexpected error occurred while reading {filepath}. Details: {e}\")\n",
    "        print(f\"An unexpected error occurred. Check file_handler.log.\")\n",
    "        return None\n",
    "\n",
    "# Attempt to read a file that does not exist\n",
    "read_file_safely('non_existent.txt')"
   ]
  },
  {
   "cell_type": "markdown",
   "id": "c9276d21-646f-4278-a644-2b36e7d98ca8",
   "metadata": {},
   "source": [
    "---"
   ]
  },
  {
   "cell_type": "code",
   "execution_count": null,
   "id": "95279bd3-f7de-4c53-8b2a-ef81cd599422",
   "metadata": {},
   "outputs": [],
   "source": []
  }
 ],
 "metadata": {
  "kernelspec": {
   "display_name": "Python 3 (ipykernel)",
   "language": "python",
   "name": "python3"
  },
  "language_info": {
   "codemirror_mode": {
    "name": "ipython",
    "version": 3
   },
   "file_extension": ".py",
   "mimetype": "text/x-python",
   "name": "python",
   "nbconvert_exporter": "python",
   "pygments_lexer": "ipython3",
   "version": "3.12.4"
  }
 },
 "nbformat": 4,
 "nbformat_minor": 5
}

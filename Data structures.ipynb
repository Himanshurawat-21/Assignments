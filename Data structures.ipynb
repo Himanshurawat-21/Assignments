{
 "cells": [
  {
   "cell_type": "markdown",
   "id": "248c9eb9-0b5c-485a-acd5-4ec7fbba240c",
   "metadata": {},
   "source": [
    "### Q.1.What are data structures, and why are they important?\n",
    "\n",
    "Ans>> data structures are different ways of organizing and storing data so that it can be used effectively. Python provides several built-in data structures such as lists, tuples, sets, and dictionaries, which allow us to handle data in different situations.\n",
    "\n",
    "They are important because choosing the right data structure makes programs faster, easier to manage, and more efficient. For example, lists are good for ordered data, sets help remove duplicates, and dictionaries are useful for key–value mappings.\n",
    "\n",
    "---"
   ]
  },
  {
   "cell_type": "markdown",
   "id": "7c69dcea-eab4-42c5-86dd-982f6db19d53",
   "metadata": {},
   "source": [
    "### Q.2.Explain the difference between mutable and immutable data types with examples.\n",
    "\n",
    "Ans>> data types can be divided into mutable and immutable types.\n",
    "\n",
    "**Mutable** data types are those whose values can be changed after they are created. For example, a list can be updated by adding, removing, or modifying elements:\n",
    "\n",
    "    my_list = [1, 2, 3]  \n",
    "    my_list[0] = 10   # list is changed\n",
    "\n",
    "**Immutable data** types cannot be changed once they are created. Any modification creates a new object. For example, strings and tuples are immutable:\n",
    "\n",
    "    my_str = \"hello\"  \n",
    "    my_str = my_str + \" world\"  # creates a new string, old one is unchanged\n",
    "\n",
    "so, Lists, sets, and dictionaries are mutable, while strings, tuples, and numbers are immutable.\n",
    "\n",
    "---"
   ]
  },
  {
   "cell_type": "markdown",
   "id": "502d89c2-1b52-4931-805f-32e56239f6e3",
   "metadata": {},
   "source": [
    "###  Q.3.What are the main differences between lists and tuples in Python?\n",
    "\n",
    "Ans>> Both lists and tuples are used to store collections of items, but they differ in a few key ways:\n",
    "\n",
    "Mutability: Lists are mutable, meaning their elements can be changed, added, or removed. Tuples are immutable, so once created, their elements cannot be modified.\n",
    "\n",
    "Syntax: Lists are written with square brackets [ ], while tuples use parentheses ( ).\n",
    "\n",
    "    my_list = [1, 2, 3]   # can change\n",
    "    my_tuple = (1, 2, 3)  # cannot change\n",
    "\n",
    "---"
   ]
  },
  {
   "cell_type": "markdown",
   "id": "8ad2a744-909b-4b42-9576-074491b4494d",
   "metadata": {},
   "source": [
    "### Q.4. Describe how dictionaries store data.\n",
    "\n",
    "Ans>> Dictionaries store data in the form of key–value pairs. Each key acts like a unique label, and the value is the data linked to that key. This makes it easy to quickly find a value by using its key instead of searching through the entire collection.\n",
    "\n",
    "Internally, dictionaries use a technique called hashing, which allows very fast access, insertion, and deletion of data.\n",
    "\n",
    "---"
   ]
  },
  {
   "cell_type": "markdown",
   "id": "072003f7-583c-41be-9cbd-793219f572d3",
   "metadata": {},
   "source": [
    "### Q.5.Why might you use a set instead of a list in Python?\n",
    "\n",
    "Ans>> We might use a set instead of a list when we want to store unique elements only, because sets automatically remove duplicates. Sets are also faster than lists for checking membership (e.g., testing if an item exists) since they use hashing.\n",
    "\n",
    "---"
   ]
  },
  {
   "cell_type": "markdown",
   "id": "cf60c33b-4c93-40c7-b13d-e53172dc154a",
   "metadata": {},
   "source": [
    "### Q.6.What is a string in Python, and how is it different from a list?\n",
    "\n",
    "Ams>> In Python, a string is a sequence of characters enclosed in single quotes (' '), double quotes (\" \"), or triple quotes (''' '''). For example:\n",
    "\n",
    "    my_str = \"Hello\"\n",
    "\n",
    "The difference between a string and a list is that:\n",
    "\n",
    "A string stores characters only, while a list can store elements of different data types (numbers, strings, etc.).\n",
    "\n",
    "Strings are immutable (cannot be changed after creation), whereas lists are mutable (elements can be modified).\n",
    "\n",
    "---"
   ]
  },
  {
   "cell_type": "markdown",
   "id": "9cd0f306-f905-4ba6-a526-a3152e7e1107",
   "metadata": {},
   "source": [
    "### Q.7.How do tuples ensure data integrity in Python?\n",
    "\n",
    "Ans>> Tuples ensure data integrity in Python because they are immutable. Once a tuple is created, its elements cannot be changed, added, or removed. This makes tuples reliable for storing fixed collections of data that should not be altered accidentally during program execution.\n",
    "\n",
    "---"
   ]
  },
  {
   "cell_type": "markdown",
   "id": "d138f280-0538-4a3c-8161-528bddd80a2d",
   "metadata": {},
   "source": [
    "### Q.8. What is a hash table, and how does it relate to dictionaries in Python?\n",
    "\n",
    "Ans>> A hash table is a data structure that stores data in key–value form and uses a hashing function to quickly map each key to its storage location. This makes operations like searching, inserting, and deleting very fast.\n",
    "\n",
    "In Python, dictionaries are implemented using hash tables. Each key is hashed to find its position in memory, and the value is stored at that location. This is why dictionary lookups with keys are much faster than searching in lists.\n",
    "\n",
    "---"
   ]
  },
  {
   "cell_type": "markdown",
   "id": "cc7b83f4-c9df-4ac9-a4b3-3b00d5ee7fca",
   "metadata": {},
   "source": [
    "### Q.9.Can lists contain different data types in Python?\n",
    "\n",
    "Ans>> Yes, in Python a list can contain elements of different data types. For example, a list can store integers, strings, floats, or even other lists together.\n",
    "\n",
    "    my_list = [10, \"hello\", 3.5, [1, 2, 3]]\n",
    "\n",
    "---"
   ]
  },
  {
   "cell_type": "markdown",
   "id": "c8e80c4d-5583-402d-92d4-df64cdcb1706",
   "metadata": {},
   "source": [
    "### Q.10. Explain why strings are immutable in Python?\n",
    "\n",
    "Ans>>  Strings in Python are immutable, meaning their content cannot be changed after creation. This design choice is made because:\n",
    "\n",
    "Memory and performance: Immutable objects can be safely shared across programs without risk of being altered, which saves memory.\n",
    "\n",
    "Security and reliability: Since strings are widely used as keys in dictionaries and for handling sensitive data, immutability ensures they remain consistent and unchanged.\n",
    "\n",
    "---"
   ]
  },
  {
   "cell_type": "markdown",
   "id": "e987eadc-e0be-4a63-a574-1db7fd61c154",
   "metadata": {},
   "source": [
    "### Q.11.What advantages do dictionaries offer over lists for certain tasks?\n",
    "\n",
    "Ans>> Dictionaries offer advantages over lists when we need to quickly access data using a unique key. Unlike lists, where you search by index or scan through elements, dictionaries allow fast lookups, insertions, and deletions using keys.\n",
    "\n",
    "They are also more meaningful for storing related information, since data is kept in key–value pairs (like a name with its age), making programs easier to understand and manage.\n",
    "\n",
    "---"
   ]
  },
  {
   "cell_type": "markdown",
   "id": "b16223b9-7c62-4722-b045-8beb7a105f09",
   "metadata": {},
   "source": [
    "### Q.12. Describe a scenario where using a tuple would be preferable over a list.\n",
    "\n",
    "Ans>> A tuple is preferable when the data should not be changed throughout the program. For example, storing the latitude and longitude of a city works better in a tuple because those values are fixed and should not be modified accidentally.\n",
    "\n",
    "    coordinates = (28.6, 77.2)  # Delhi coordinates\n",
    "\n",
    "---"
   ]
  },
  {
   "cell_type": "markdown",
   "id": "8e42a782-2eec-4909-a0b5-85834a341810",
   "metadata": {},
   "source": [
    "### Q.13. How do sets handle duplicate values in Python?\n",
    "\n",
    "Ans>> In Python, sets automatically remove duplicate values. If the same element is added more than once, the set keeps only one copy of it. This is because sets are based on hashing, and each element must be unique.\n",
    "\n",
    "    my_set = {1, 2, 2, 3}\n",
    "    print(my_set)   # Output: {1, 2, 3}\n",
    "\n",
    "---"
   ]
  },
  {
   "cell_type": "markdown",
   "id": "5b3f2ddf-d15f-4fab-931c-27d316fb6e47",
   "metadata": {},
   "source": [
    "### Q.14.How does the “in” keyword work differently for lists and dictionaries?\n",
    "\n",
    "Ans>> The in keyword is used to check membership, but it works differently for lists and dictionaries:\n",
    "\n",
    "In lists: it checks if a value exists among the elements.\n",
    "\n",
    "    nums = [1, 2, 3]\n",
    "    print(2 in nums)   # True\n",
    "\n",
    "In dictionaries: it checks if a key exists, not the value.\n",
    "\n",
    "    student = {\"name\": \"Rahul\", \"age\": 20}\n",
    "    print(\"name\" in student)   # True\n",
    "    print(20 in student)       # False\n",
    "\n",
    "---"
   ]
  },
  {
   "cell_type": "markdown",
   "id": "0fb92eb4-bdeb-438b-b5f9-9289b349a74e",
   "metadata": {},
   "source": [
    "### Q.15. Can you modify the elements of a tuple? Explain why or why not?\n",
    "\n",
    "Ans>> No, the elements of a tuple cannot be modified because tuples in Python are immutable. Once a tuple is created, its values cannot be changed, added, or removed. This design ensures data integrity and makes tuples useful for storing constant or fixed information.\n",
    "\n",
    "    my_tuple = (1, 2, 3)\n",
    "    my_tuple[0] = 10   # Error: tuples are immutable\n",
    "\n",
    "---"
   ]
  },
  {
   "cell_type": "markdown",
   "id": "a5f7bc6d-f3ad-4282-971a-e027acb1f6bd",
   "metadata": {},
   "source": [
    "### Q.16.What is a nested dictionary, and give an example of its use case?\n",
    "\n",
    "Ans>> A nested dictionary is a dictionary inside another dictionary. It allows us to store data in a structured way, where each key can hold another dictionary as its value.\n",
    "\n",
    "Use case: Nested dictionaries are useful for representing complex data, like storing student information where each student has details such as age and course.\n",
    "\n",
    "    students = {\n",
    "    \"101\": {\"name\": \"Rahul\", \"age\": 20, \"course\": \"BCA\"},\n",
    "    \"102\": {\"name\": \"Priya\", \"age\": 21, \"course\": \"B.Sc\"}\n",
    "    }\n",
    "    \n",
    "---"
   ]
  },
  {
   "cell_type": "markdown",
   "id": "539d2f91-2943-436f-89e1-4c0bb6780450",
   "metadata": {},
   "source": [
    "### Q.17.Describe the time complexity of accessing elements in a dictionary.\n",
    "\n",
    "Ans>> Accessing elements in a dictionary is generally very fast because dictionaries use hash tables.\n",
    "\n",
    "The average time complexity for accessing an element by key is O(1) (constant time).\n",
    "\n",
    "In the worst case (rare situations like hash collisions), it can take O(n) time, but this is uncommon.\n",
    "\n",
    "    student = {\"name\": \"Rahul\", \"age\": 20}\n",
    "    print(student[\"age\"])   # O(1) lookup\n",
    "\n",
    "---"
   ]
  },
  {
   "cell_type": "markdown",
   "id": "a728d21f-ae06-4eab-8166-5b6229a9d377",
   "metadata": {},
   "source": [
    "### Q.18.In what situations are lists preferred over dictionaries?\n",
    "\n",
    "Ans>> Lists are preferred over dictionaries when the data is ordered, simple, and does not need key–value pairs. They are useful if you only care about the sequence of items, need to access elements by their position (index), or when duplicate values are allowed.\n",
    "\n",
    "    fruits = [\"apple\", \"banana\", \"mango\", \"apple\"]  # order + duplicates allowed\n",
    "    \n",
    "---"
   ]
  },
  {
   "cell_type": "markdown",
   "id": "426b0354-2997-479e-9cb0-4360e6e06bcd",
   "metadata": {},
   "source": [
    "### Q.19.Why are dictionaries considered unordered, and how does that affect data retrieval?\n",
    "\n",
    "Ans>> Dictionaries are considered unordered because they do not store elements by position or index like lists. Instead, they use keys that are mapped to values through hashing. This means you cannot rely on the physical order of items to retrieve data.\n",
    "\n",
    "For data retrieval, you must use the key, not the position. While modern Python (3.7+) preserves insertion order, the logical way to access values is still through keys, not by sequence.\n",
    "\n",
    "    student = {\"name\": \"Rahul\", \"age\": 20}\n",
    "    print(student[\"name\"])   # retrieval by key\n",
    "\n",
    "---"
   ]
  },
  {
   "cell_type": "markdown",
   "id": "c870aaf6-4d44-49b5-a699-22817d8361d3",
   "metadata": {},
   "source": [
    "### Q.20.Explain the difference between a list and a dictionary in terms of data retrieval.\n",
    "\n",
    "Ans>> **lists** retrieve data using an index number, which represents the position of an element in the sequence. \n",
    "\n",
    "For example:\n",
    "    \n",
    "    fruits = [\"apple\", \"banana\", \"mango\"]\n",
    "    print(fruits[1])   # \"banana\"\n",
    "\n",
    "**Dictionaries**, on the other hand, retrieve data using a key, not a position. Each key is mapped to a value, making lookups faster and more meaningful.\n",
    "\n",
    "    student = {\"name\": \"Rahul\", \"age\": 20}\n",
    "    print(student[\"name\"])   # \"Rahul\"\n",
    "    \n",
    "---\n"
   ]
  },
  {
   "cell_type": "markdown",
   "id": "26d5b8d9-c76b-469e-b875-8710e886ac8f",
   "metadata": {},
   "source": [
    "# Practical Questions"
   ]
  },
  {
   "cell_type": "markdown",
   "id": "0f4b7bdd-6031-4975-a7c1-155f7fe13a61",
   "metadata": {},
   "source": [
    "### Q.1.Write a code to create a string with your name and print it."
   ]
  },
  {
   "cell_type": "code",
   "execution_count": 2,
   "id": "7d61e2bf-3096-4787-9e09-a3a9b4cf47da",
   "metadata": {},
   "outputs": [
    {
     "name": "stdout",
     "output_type": "stream",
     "text": [
      "Himanshu\n"
     ]
    }
   ],
   "source": [
    "# create a variable called 'name' and store a string inside it\n",
    "name = \"Himanshu\"\n",
    "\n",
    "# print the value stored in the variable 'name'\n",
    "print(name)"
   ]
  },
  {
   "cell_type": "markdown",
   "id": "c7d43b0a-b87b-4c8f-a21b-2035a83cfb0d",
   "metadata": {},
   "source": [
    "---"
   ]
  },
  {
   "cell_type": "markdown",
   "id": "8fc4d0e3-2266-4522-97a0-9dbaaf45b35b",
   "metadata": {},
   "source": [
    "### Q.2.Write a code to find the length of the string \"Hello World\"."
   ]
  },
  {
   "cell_type": "code",
   "execution_count": 5,
   "id": "7f7faf0d-fc2e-43a6-a459-1463db88fa7a",
   "metadata": {},
   "outputs": [
    {
     "name": "stdout",
     "output_type": "stream",
     "text": [
      "11\n"
     ]
    }
   ],
   "source": [
    "# store the string \"Hello World\" in a variable\n",
    "text = \"Hello World\"\n",
    "\n",
    "# use the built-in len() function to find the length of the string\n",
    "length = len(text)\n",
    "\n",
    "# print the length of the string\n",
    "print(length)"
   ]
  },
  {
   "cell_type": "markdown",
   "id": "63530ff6-313a-438f-9866-fed30077e6bb",
   "metadata": {},
   "source": [
    "---"
   ]
  },
  {
   "cell_type": "markdown",
   "id": "d27aa899-1992-47b4-83e4-496a9a83fd9d",
   "metadata": {},
   "source": [
    "### Q.3.Write a code to slice the first 3 characters from the string \"Python Programming\"."
   ]
  },
  {
   "cell_type": "code",
   "execution_count": 7,
   "id": "8952290c-8a11-438e-9f8a-193b747f3e5b",
   "metadata": {},
   "outputs": [
    {
     "name": "stdout",
     "output_type": "stream",
     "text": [
      "Pyt\n"
     ]
    }
   ],
   "source": [
    "# store the string \"Python Programming\" in a variable\n",
    "text = \"Python Programming\"\n",
    "\n",
    "# slice the first 3 characters using indexing [0:3]\n",
    "first_three = text[0:3]\n",
    "\n",
    "# print the sliced part\n",
    "print(first_three)"
   ]
  },
  {
   "cell_type": "markdown",
   "id": "829cf8a3-3030-42b3-9a70-060d05b958d5",
   "metadata": {},
   "source": [
    "---"
   ]
  },
  {
   "cell_type": "markdown",
   "id": "9d0eb62a-1aad-48ff-9e34-84f1eb042d26",
   "metadata": {},
   "source": [
    "### Q.4. Write a code to convert the string \"hello\" to uppercase."
   ]
  },
  {
   "cell_type": "code",
   "execution_count": 56,
   "id": "839e541e-569e-432e-bc83-f3d6ccc840c9",
   "metadata": {},
   "outputs": [
    {
     "name": "stdout",
     "output_type": "stream",
     "text": [
      "HELLO\n"
     ]
    }
   ],
   "source": [
    "# store the string \"hello\" in a variable\n",
    "text = \"hello\"\n",
    "\n",
    "# use the upper() method to convert all characters to uppercase\n",
    "uppercase_text = text.upper()\n",
    "\n",
    "# print the converted string\n",
    "print(uppercase_text)"
   ]
  },
  {
   "cell_type": "markdown",
   "id": "6924b10e-a433-49b6-93ea-9f393b7802d6",
   "metadata": {},
   "source": [
    "---"
   ]
  },
  {
   "cell_type": "markdown",
   "id": "a705271d-dba6-43b8-a5d5-8f8bb44212eb",
   "metadata": {},
   "source": [
    "### Q.5.Write a code to replace the word \"apple\" with \"orange\" in the string \"I like apple\"."
   ]
  },
  {
   "cell_type": "code",
   "execution_count": 57,
   "id": "9f965578-8dab-4b46-a291-feb2bfd80105",
   "metadata": {},
   "outputs": [
    {
     "name": "stdout",
     "output_type": "stream",
     "text": [
      "I like orange\n"
     ]
    }
   ],
   "source": [
    "# store the string \"I like apple\" in a variable\n",
    "text = \"I like apple\"\n",
    "\n",
    "# use the replace() method to replace \"apple\" with \"orange\"\n",
    "new_text = text.replace(\"apple\", \"orange\")\n",
    "\n",
    "# print the updated string\n",
    "print(new_text)"
   ]
  },
  {
   "cell_type": "markdown",
   "id": "0230f507-f633-4d6f-b94a-c450cf3d61f9",
   "metadata": {},
   "source": [
    "---"
   ]
  },
  {
   "cell_type": "markdown",
   "id": "eb46c290-3c9b-457f-b5d6-f8828f58815f",
   "metadata": {},
   "source": [
    "### Q.6.Write a code to create a list with numbers 1 to 5 and print it."
   ]
  },
  {
   "cell_type": "code",
   "execution_count": 58,
   "id": "95465133-ca9f-4d7e-9e51-c15c02819466",
   "metadata": {},
   "outputs": [
    {
     "name": "stdout",
     "output_type": "stream",
     "text": [
      "[1, 2, 3, 4, 5]\n"
     ]
    }
   ],
   "source": [
    "# create a list containing numbers from 1 to 5\n",
    "numbers = [1, 2, 3, 4, 5]\n",
    "\n",
    "# print the list\n",
    "print(numbers)"
   ]
  },
  {
   "cell_type": "markdown",
   "id": "3a08841a-8996-4990-aac8-bac431a127a2",
   "metadata": {},
   "source": [
    "---"
   ]
  },
  {
   "cell_type": "markdown",
   "id": "4eb70246-7807-42a2-aa6d-d2a2781b25a1",
   "metadata": {},
   "source": [
    "### Q.7.Write a code to append the number 10 to the list [1, 2, 3, 4]"
   ]
  },
  {
   "cell_type": "code",
   "execution_count": 59,
   "id": "ddf2cc13-390f-478d-8f26-1375e1ab03f3",
   "metadata": {},
   "outputs": [
    {
     "name": "stdout",
     "output_type": "stream",
     "text": [
      "[1, 2, 3, 4, 10]\n"
     ]
    }
   ],
   "source": [
    "# create a list with numbers 1 to 4\n",
    "numbers = [1, 2, 3, 4]\n",
    "\n",
    "# use the append() method to add the number 10 at the end of the list\n",
    "numbers.append(10)\n",
    "\n",
    "# print the updated list\n",
    "print(numbers)"
   ]
  },
  {
   "cell_type": "markdown",
   "id": "17ecd22f-7828-47b9-9772-4310ce103369",
   "metadata": {},
   "source": [
    "---"
   ]
  },
  {
   "cell_type": "markdown",
   "id": "f2368d1d-e7c3-4f3e-93b9-65f8a9a459a2",
   "metadata": {},
   "source": [
    "### Q.8.Write a code to remove the number 3 from the list [1, 2, 3, 4, 5]."
   ]
  },
  {
   "cell_type": "code",
   "execution_count": 60,
   "id": "dcf5af5f-e68d-4752-a99c-f0860a38b910",
   "metadata": {},
   "outputs": [
    {
     "name": "stdout",
     "output_type": "stream",
     "text": [
      "[1, 2, 4, 5]\n"
     ]
    }
   ],
   "source": [
    "# create a list with numbers 1 to 5\n",
    "numbers = [1, 2, 3, 4, 5]\n",
    "\n",
    "# remove the number 3 from the list using remove() method\n",
    "numbers.remove(3)\n",
    "\n",
    "# print the updated list\n",
    "print(numbers)"
   ]
  },
  {
   "cell_type": "markdown",
   "id": "3b1e956e-9d8c-4eba-878f-e33cf0196ac5",
   "metadata": {},
   "source": [
    "---"
   ]
  },
  {
   "cell_type": "markdown",
   "id": "233b8804-d5c6-4ee2-81cb-dc3aaeb22dbd",
   "metadata": {},
   "source": [
    "### Q.9.Write a code to access the second element in the list ['a', 'b', 'c', 'd']."
   ]
  },
  {
   "cell_type": "code",
   "execution_count": 61,
   "id": "d1b3ddd4-356f-4a85-b8a6-c9ce72765048",
   "metadata": {},
   "outputs": [
    {
     "name": "stdout",
     "output_type": "stream",
     "text": [
      "b\n"
     ]
    }
   ],
   "source": [
    "# create a list of letters\n",
    "letters = ['a', 'b', 'c', 'd']\n",
    "\n",
    "# access the second element using index 1 (indexing starts from 0)\n",
    "second_element = letters[1]\n",
    "\n",
    "# print the second element\n",
    "print(second_element)"
   ]
  },
  {
   "cell_type": "markdown",
   "id": "6db67bcd-5e28-4664-bbcc-09ee15182ad4",
   "metadata": {},
   "source": [
    "---"
   ]
  },
  {
   "cell_type": "markdown",
   "id": "5981071a-7e49-478e-9819-d90eff9e540e",
   "metadata": {},
   "source": [
    "### Q.10.Write a code to reverse the list [10, 20, 30, 40, 50]."
   ]
  },
  {
   "cell_type": "code",
   "execution_count": 62,
   "id": "476593e4-b06d-4099-a9f2-0e1539e691d3",
   "metadata": {},
   "outputs": [
    {
     "name": "stdout",
     "output_type": "stream",
     "text": [
      "[50, 40, 30, 20, 10]\n"
     ]
    }
   ],
   "source": [
    "# create a list of numbers\n",
    "numbers = [10, 20, 30, 40, 50]\n",
    "\n",
    "# reverse the list using reverse() method\n",
    "numbers.reverse()\n",
    "\n",
    "# print the reversed list\n",
    "print(numbers)"
   ]
  },
  {
   "cell_type": "markdown",
   "id": "335fab71-46f6-4ef6-a31a-e08c4547f7ea",
   "metadata": {},
   "source": [
    "---"
   ]
  },
  {
   "cell_type": "markdown",
   "id": "eaa398b4-87e9-4b73-a8f8-316c29d80b5a",
   "metadata": {},
   "source": [
    "### Q.11.Write a code to create a tuple with the elements 100, 200, 300 and print it"
   ]
  },
  {
   "cell_type": "code",
   "execution_count": 63,
   "id": "720a16d4-ef7b-406b-a97b-8ba50ea8d0a5",
   "metadata": {},
   "outputs": [
    {
     "name": "stdout",
     "output_type": "stream",
     "text": [
      "(100, 200, 300)\n"
     ]
    }
   ],
   "source": [
    "# create a tuple with elements 100, 200, 300\n",
    "numbers = (100, 200, 300)\n",
    "\n",
    "# print the tuple\n",
    "print(numbers)"
   ]
  },
  {
   "cell_type": "markdown",
   "id": "b5d07b33-4a50-484b-8561-f179b20fef17",
   "metadata": {},
   "source": [
    "---"
   ]
  },
  {
   "cell_type": "markdown",
   "id": "9efbd087-ca48-4d43-a907-d34003bb12af",
   "metadata": {},
   "source": [
    "### Q.12.Write a code to access the second-to-last element of the tuple ('red', 'green', 'blue', 'yellow')"
   ]
  },
  {
   "cell_type": "code",
   "execution_count": 24,
   "id": "afe8004b-b313-4ba7-a5ee-7cb666580273",
   "metadata": {},
   "outputs": [
    {
     "name": "stdout",
     "output_type": "stream",
     "text": [
      "blue\n"
     ]
    }
   ],
   "source": [
    "# create a tuple of colors\n",
    "colors = ('red', 'green', 'blue', 'yellow')\n",
    "\n",
    "# access the second-to-last element using negative indexing\n",
    "second_last = colors[-2]\n",
    "\n",
    "# print the second-to-last element\n",
    "print(second_last)"
   ]
  },
  {
   "cell_type": "markdown",
   "id": "381970cd-c3e6-47c9-b8f4-cfbfd1afb0aa",
   "metadata": {},
   "source": [
    "---"
   ]
  },
  {
   "cell_type": "markdown",
   "id": "102581a1-d23d-43cd-9ff7-e8b7e9b11e0a",
   "metadata": {},
   "source": [
    "### Q.13.Write a code to find the minimum number in the tuple (10, 20, 5, 15)."
   ]
  },
  {
   "cell_type": "code",
   "execution_count": 26,
   "id": "f90947ef-7d93-427f-b242-6d858f1af4d0",
   "metadata": {},
   "outputs": [
    {
     "name": "stdout",
     "output_type": "stream",
     "text": [
      "5\n"
     ]
    }
   ],
   "source": [
    "# create a tuple of numbers\n",
    "numbers = (10, 20, 5, 15)\n",
    "\n",
    "# use the min() function to find the smallest number\n",
    "minimum = min(numbers)\n",
    "\n",
    "# print the minimum number\n",
    "print(minimum)"
   ]
  },
  {
   "cell_type": "markdown",
   "id": "849bed4a-fd76-44e0-8e10-1f0c659a95cc",
   "metadata": {},
   "source": [
    "---"
   ]
  },
  {
   "cell_type": "markdown",
   "id": "323d44a1-5ff5-4422-a354-5a0c21f993b6",
   "metadata": {},
   "source": [
    "### Q.14.Write a code to find the index of the element \"cat\" in the tuple ('dog', 'cat', 'rabbit')"
   ]
  },
  {
   "cell_type": "code",
   "execution_count": 64,
   "id": "365fa0ef-94ef-4569-9eb7-47de757606dd",
   "metadata": {},
   "outputs": [
    {
     "name": "stdout",
     "output_type": "stream",
     "text": [
      "1\n"
     ]
    }
   ],
   "source": [
    "# create a tuple of animals\n",
    "animals = ('dog', 'cat', 'rabbit')\n",
    "\n",
    "# use the index() method to find the position of \"cat\"\n",
    "position = animals.index(\"cat\")\n",
    "\n",
    "# print the index of \"cat\"\n",
    "print(position)"
   ]
  },
  {
   "cell_type": "markdown",
   "id": "9336df92-fc37-4b4f-a43c-cec9389de119",
   "metadata": {},
   "source": [
    "---"
   ]
  },
  {
   "cell_type": "markdown",
   "id": "224c1a52-7794-4bd2-bf2d-fb3b5f66771d",
   "metadata": {},
   "source": [
    "### Q.15.Write a code to create a tuple containing three different fruits and check if \"kiwi\" is in it."
   ]
  },
  {
   "cell_type": "code",
   "execution_count": 30,
   "id": "4d46075b-f168-4500-b1ee-f202e0bd6158",
   "metadata": {},
   "outputs": [
    {
     "name": "stdout",
     "output_type": "stream",
     "text": [
      "False\n"
     ]
    }
   ],
   "source": [
    "# create a tuple containing three different fruits\n",
    "fruits = (\"apple\", \"banana\", \"mango\")\n",
    "\n",
    "# check if \"kiwi\" is present in the tuple using 'in' keyword\n",
    "is_kiwi_present = \"kiwi\" in fruits\n",
    "\n",
    "# print the result (True if present, False if not)\n",
    "print(is_kiwi_present)"
   ]
  },
  {
   "cell_type": "markdown",
   "id": "9d7d5d1a-a0e9-47a2-8542-4e068b3bb01f",
   "metadata": {},
   "source": [
    "---"
   ]
  },
  {
   "cell_type": "markdown",
   "id": "8d7b6a6b-2126-49c8-a8fc-7f224df2098a",
   "metadata": {},
   "source": [
    "### Q.16.Write a code to create a set with the elements 'a', 'b', 'c' and print it."
   ]
  },
  {
   "cell_type": "code",
   "execution_count": 65,
   "id": "7506477f-b92d-410b-aac0-109cdca3514e",
   "metadata": {},
   "outputs": [
    {
     "name": "stdout",
     "output_type": "stream",
     "text": [
      "{'b', 'c', 'a'}\n"
     ]
    }
   ],
   "source": [
    "# create a set with elements 'a', 'b', 'c'\n",
    "letters = {'a', 'b', 'c'}\n",
    "\n",
    "# print the set\n",
    "print(letters)"
   ]
  },
  {
   "cell_type": "markdown",
   "id": "f683349e-1e6a-4535-a6e4-34a85c0d5647",
   "metadata": {},
   "source": [
    "---"
   ]
  },
  {
   "cell_type": "markdown",
   "id": "d1c1f967-9cc0-4880-b55b-07023b9174a6",
   "metadata": {},
   "source": [
    "### Q.17.Write a code to clear all elements from the set 1, 2, 3, 4, 5}."
   ]
  },
  {
   "cell_type": "code",
   "execution_count": 66,
   "id": "039ea24d-839a-4ce0-858f-4381e06a7588",
   "metadata": {},
   "outputs": [
    {
     "name": "stdout",
     "output_type": "stream",
     "text": [
      "set()\n"
     ]
    }
   ],
   "source": [
    "# create a set with numbers 1 to 5\n",
    "numbers = {1, 2, 3, 4, 5}\n",
    "\n",
    "# remove all elements from the set using clear() method\n",
    "numbers.clear()\n",
    "\n",
    "# print the empty set\n",
    "print(numbers)"
   ]
  },
  {
   "cell_type": "markdown",
   "id": "c3927087-7727-4db3-8506-5119e0a73736",
   "metadata": {},
   "source": [
    "---"
   ]
  },
  {
   "cell_type": "markdown",
   "id": "31ba18ff-f13c-44cb-ba97-dca36567ba72",
   "metadata": {},
   "source": [
    "### Q.18.Write a code to remove the element 4 from the set {1, 2, 3, 4}."
   ]
  },
  {
   "cell_type": "code",
   "execution_count": 67,
   "id": "18b34d9d-3412-40e5-ad5a-2cd167f70cc3",
   "metadata": {},
   "outputs": [
    {
     "name": "stdout",
     "output_type": "stream",
     "text": [
      "{1, 2, 3}\n"
     ]
    }
   ],
   "source": [
    "# create a set with numbers 1 to 4\n",
    "numbers = {1, 2, 3, 4}\n",
    "\n",
    "# remove the element 4 using remove() method\n",
    "numbers.remove(4)\n",
    "\n",
    "# print the updated set\n",
    "print(numbers)\n"
   ]
  },
  {
   "cell_type": "markdown",
   "id": "3bc15480-d733-4ed7-8a8b-3f47327ee000",
   "metadata": {},
   "source": [
    "---"
   ]
  },
  {
   "cell_type": "markdown",
   "id": "2da7ec35-3fa1-4e7f-8d7f-bd8ee1420e08",
   "metadata": {},
   "source": [
    "### Q.19.Write a code to find the union of two sets {1, 2, 3} and {3, 4, 5}."
   ]
  },
  {
   "cell_type": "code",
   "execution_count": 68,
   "id": "90b9d737-2d24-4743-b89e-9249a582426f",
   "metadata": {},
   "outputs": [
    {
     "name": "stdout",
     "output_type": "stream",
     "text": [
      "{1, 2, 3, 4, 5}\n"
     ]
    }
   ],
   "source": [
    "# create two sets\n",
    "set1 = {1, 2, 3}\n",
    "set2 = {3, 4, 5}\n",
    "\n",
    "# find the union of the two sets using union() method\n",
    "union_set = set1.union(set2)\n",
    "\n",
    "# print the union set\n",
    "print(union_set)"
   ]
  },
  {
   "cell_type": "markdown",
   "id": "ec9e2d82-84ff-4bc0-84a0-40336b1bca7a",
   "metadata": {},
   "source": [
    "---"
   ]
  },
  {
   "cell_type": "markdown",
   "id": "82de36dc-f994-4628-b991-5e6f1106bad4",
   "metadata": {},
   "source": [
    "### Q.20.Write a code to find the intersection of two sets {1, 2, 3} and {2, 3, 4}."
   ]
  },
  {
   "cell_type": "code",
   "execution_count": 70,
   "id": "ba86b041-4634-475d-b163-b95755cd9b4a",
   "metadata": {},
   "outputs": [
    {
     "name": "stdout",
     "output_type": "stream",
     "text": [
      "{2, 3}\n"
     ]
    }
   ],
   "source": [
    "# create two sets\n",
    "set1 = {1, 2, 3}\n",
    "set2 = {2, 3, 4}\n",
    "\n",
    "# find the intersection of the two sets using intersection() method\n",
    "intersection_set = set1.intersection(set2)\n",
    "\n",
    "# print the intersection set\n",
    "print(intersection_set)"
   ]
  },
  {
   "cell_type": "markdown",
   "id": "7ed21289-cac6-4bf2-83b0-3b6a3e77b1e2",
   "metadata": {},
   "source": [
    "---"
   ]
  },
  {
   "cell_type": "markdown",
   "id": "c92a3f8a-4b55-4989-92bd-1b81aaea5155",
   "metadata": {},
   "source": [
    "### Q.21. Write a code to create a dictionary with the keys \"name\", \"age\", and \"city\", and print it."
   ]
  },
  {
   "cell_type": "code",
   "execution_count": 71,
   "id": "bc5f77b3-5666-47ef-ace7-9d8dce701fa0",
   "metadata": {},
   "outputs": [
    {
     "name": "stdout",
     "output_type": "stream",
     "text": [
      "{'name': 'John', 'age': 25, 'city': 'New York'}\n"
     ]
    }
   ],
   "source": [
    "# create a dictionary with keys and their corresponding values\n",
    "person = {\"name\": \"John\", \"age\": 25, \"city\": \"New York\"}\n",
    "\n",
    "# print the dictionary\n",
    "print(person)"
   ]
  },
  {
   "cell_type": "markdown",
   "id": "995e23d5-dd27-429e-bb5e-4a4bf788ce71",
   "metadata": {},
   "source": [
    "---"
   ]
  },
  {
   "cell_type": "markdown",
   "id": "eaa33e6b-3c14-4017-9acc-0de198e30e4c",
   "metadata": {},
   "source": [
    "### Q.22. Write a code to add a new key-value pair \"country\": \"USA\" to the dictionary {'name': 'John', 'age': 25}."
   ]
  },
  {
   "cell_type": "code",
   "execution_count": 72,
   "id": "d1ad3a41-2466-4063-876a-3bd6b13e4617",
   "metadata": {},
   "outputs": [
    {
     "name": "stdout",
     "output_type": "stream",
     "text": [
      "{'name': 'John', 'age': 25, 'country': 'USA'}\n"
     ]
    }
   ],
   "source": [
    "# create the initial dictionary\n",
    "person = {\"name\": \"John\", \"age\": 25}\n",
    "\n",
    "# add a new key-value pair using assignment\n",
    "person[\"country\"] = \"USA\"\n",
    "\n",
    "# print the updated dictionary\n",
    "print(person)"
   ]
  },
  {
   "cell_type": "markdown",
   "id": "7269bece-af88-4332-b648-2a82b6aa1144",
   "metadata": {},
   "source": [
    "---"
   ]
  },
  {
   "cell_type": "markdown",
   "id": "de1349af-c9f5-4dfd-bcf8-abf9a32df19c",
   "metadata": {},
   "source": [
    "### Q.23. Write a code to access the value associated with the key \"name\" in the dictionary {'name': 'Alice', 'age': 30}."
   ]
  },
  {
   "cell_type": "code",
   "execution_count": 74,
   "id": "166ba185-d40c-40dd-8fe4-90c86be04dd0",
   "metadata": {},
   "outputs": [
    {
     "name": "stdout",
     "output_type": "stream",
     "text": [
      "Alice\n"
     ]
    }
   ],
   "source": [
    "# create a dictionary\n",
    "person = {\"name\": \"Alice\", \"age\": 30}\n",
    "\n",
    "# access the value of the key \"name\"\n",
    "name_value = person[\"name\"]\n",
    "\n",
    "# print the value\n",
    "print(name_value)"
   ]
  },
  {
   "cell_type": "markdown",
   "id": "ca6f7912-b667-445a-876f-a8e085e90f77",
   "metadata": {},
   "source": [
    "---"
   ]
  },
  {
   "cell_type": "markdown",
   "id": "19820094-b425-4305-a7b0-e0932e42d3b3",
   "metadata": {},
   "source": [
    "### Q.24. Write a code to remove the key \"age\" from the dictionary {'name': 'Bob', 'age': 22, 'city': 'New York'}."
   ]
  },
  {
   "cell_type": "code",
   "execution_count": 75,
   "id": "9e4f9d1d-e7a0-4c7f-a525-6bf5f9315dad",
   "metadata": {},
   "outputs": [
    {
     "name": "stdout",
     "output_type": "stream",
     "text": [
      "{'name': 'Bob', 'city': 'New York'}\n"
     ]
    }
   ],
   "source": [
    "# create a dictionary\n",
    "person = {\"name\": \"Bob\", \"age\": 22, \"city\": \"New York\"}\n",
    "\n",
    "# remove the key \"age\" using pop() method\n",
    "person.pop(\"age\")\n",
    "\n",
    "# print the updated dictionary\n",
    "print(person)"
   ]
  },
  {
   "cell_type": "markdown",
   "id": "ee3e6320-5828-4d63-b34c-9820d3638db6",
   "metadata": {},
   "source": [
    "---"
   ]
  },
  {
   "cell_type": "markdown",
   "id": "ce21cda5-05e5-4d9e-ba31-38fb170a4702",
   "metadata": {},
   "source": [
    "### Q.25.Write a code to check if the key \"city\" exists in the dictionary {'name': 'Alice', 'city': 'Paris'}."
   ]
  },
  {
   "cell_type": "code",
   "execution_count": 76,
   "id": "567f3813-ce53-423f-8f1e-fc90ad867149",
   "metadata": {},
   "outputs": [
    {
     "name": "stdout",
     "output_type": "stream",
     "text": [
      "True\n"
     ]
    }
   ],
   "source": [
    "# create a dictionary\n",
    "person = {\"name\": \"Alice\", \"city\": \"Paris\"}\n",
    "\n",
    "# check if \"city\" is a key in the dictionary using 'in' keyword\n",
    "is_city_present = \"city\" in person\n",
    "\n",
    "# print the result (True or False)\n",
    "print(is_city_present)"
   ]
  },
  {
   "cell_type": "markdown",
   "id": "e54af23a-f4e9-4baa-b940-72e5eaa5b647",
   "metadata": {},
   "source": [
    "---"
   ]
  },
  {
   "cell_type": "markdown",
   "id": "41efac72-c84e-44f3-856c-20d07921d472",
   "metadata": {},
   "source": [
    "### Q.26. Write a code to create a list, a tuple, and a dictionary, and print them all."
   ]
  },
  {
   "cell_type": "code",
   "execution_count": 77,
   "id": "ee14e6f3-fe66-442f-b59c-b581d3e1c21a",
   "metadata": {},
   "outputs": [
    {
     "name": "stdout",
     "output_type": "stream",
     "text": [
      "[1, 2, 3]\n",
      "(4, 5, 6)\n",
      "{'name': 'Alice', 'age': 25}\n"
     ]
    }
   ],
   "source": [
    "# create a list\n",
    "my_list = [1, 2, 3]\n",
    "\n",
    "# create a tuple\n",
    "my_tuple = (4, 5, 6)\n",
    "\n",
    "# create a dictionary\n",
    "my_dict = {\"name\": \"Alice\", \"age\": 25}\n",
    "\n",
    "# print all of them\n",
    "print(my_list)\n",
    "print(my_tuple)\n",
    "print(my_dict)"
   ]
  },
  {
   "cell_type": "markdown",
   "id": "3b7a1254-09ab-46c0-9567-4f293cad17b1",
   "metadata": {},
   "source": [
    "---"
   ]
  },
  {
   "cell_type": "markdown",
   "id": "89d83373-d5b7-4c10-92d3-4a87f11b73f7",
   "metadata": {},
   "source": [
    "### Q.27. Write a code to create a list of 5 random numbers between 1 and 100, sort it in ascending order, and print the result.(replaced)"
   ]
  },
  {
   "cell_type": "code",
   "execution_count": 78,
   "id": "f654b286-0d05-413b-a49d-5eca7a333d62",
   "metadata": {},
   "outputs": [
    {
     "name": "stdout",
     "output_type": "stream",
     "text": [
      "[16, 70, 84, 93, 97]\n"
     ]
    }
   ],
   "source": [
    "import random\n",
    "\n",
    "# create a list of 5 random numbers between 1 and 100\n",
    "random_numbers = [random.randint(1, 100) for _ in range(5)]\n",
    "\n",
    "# sort the list in ascending order\n",
    "random_numbers.sort()\n",
    "\n",
    "# print the sorted list\n",
    "print(random_numbers)"
   ]
  },
  {
   "cell_type": "markdown",
   "id": "02df0a6c-d694-4e25-a095-0a08d7589a26",
   "metadata": {},
   "source": [
    "---"
   ]
  },
  {
   "cell_type": "markdown",
   "id": "99548d77-14ce-4871-834f-cf1a6a6e139f",
   "metadata": {},
   "source": [
    "### Q.28. Write a code to create a list with strings and print the element at the third index."
   ]
  },
  {
   "cell_type": "code",
   "execution_count": 79,
   "id": "4516d3e1-b99b-4408-8c7d-c3b19172cbde",
   "metadata": {},
   "outputs": [
    {
     "name": "stdout",
     "output_type": "stream",
     "text": [
      "orange\n"
     ]
    }
   ],
   "source": [
    "# create a list of strings\n",
    "fruits = [\"apple\", \"banana\", \"mango\", \"orange\", \"kiwi\"]\n",
    "\n",
    "# access and print the element at index 3 (fourth element)\n",
    "print(fruits[3])"
   ]
  },
  {
   "cell_type": "markdown",
   "id": "4d02a7a9-fe34-4e03-a398-cf42aeb30e70",
   "metadata": {},
   "source": [
    "---"
   ]
  },
  {
   "cell_type": "markdown",
   "id": "84745dcd-a5b6-4d62-b917-8c5313ad22b5",
   "metadata": {},
   "source": [
    "### Q.29. Write a code to combine two dictionaries into one and print the result."
   ]
  },
  {
   "cell_type": "code",
   "execution_count": 80,
   "id": "8c2a3d1e-8b74-4f7e-8cb9-cc1e3b7799f9",
   "metadata": {},
   "outputs": [
    {
     "name": "stdout",
     "output_type": "stream",
     "text": [
      "{'a': 1, 'b': 2, 'c': 3, 'd': 4}\n"
     ]
    }
   ],
   "source": [
    "# create two dictionaries\n",
    "dict1 = {\"a\": 1, \"b\": 2}\n",
    "dict2 = {\"c\": 3, \"d\": 4}\n",
    "\n",
    "# combine dictionaries using the update() method\n",
    "dict1.update(dict2)\n",
    "\n",
    "# print the combined dictionary\n",
    "print(dict1)"
   ]
  },
  {
   "cell_type": "markdown",
   "id": "16b98228-0bea-43eb-91c3-c7e95f60a6c1",
   "metadata": {},
   "source": [
    "---"
   ]
  },
  {
   "cell_type": "markdown",
   "id": "94a76b08-e1f9-4e24-999d-8fef3ab4fe85",
   "metadata": {},
   "source": [
    "### Q.30. Write a code to convert a list of strings into a set."
   ]
  },
  {
   "cell_type": "code",
   "execution_count": 81,
   "id": "31a1cc5f-899b-474f-ac0a-8668ba1b99e9",
   "metadata": {},
   "outputs": [
    {
     "name": "stdout",
     "output_type": "stream",
     "text": [
      "{'Alice', 'Bob', 'Charlie'}\n"
     ]
    }
   ],
   "source": [
    "# create a list of strings\n",
    "names = [\"Alice\", \"Bob\", \"Alice\", \"Charlie\"]\n",
    "\n",
    "# convert the list into a set to remove duplicates\n",
    "names_set = set(names)\n",
    "\n",
    "# print the set\n",
    "print(names_set)\n"
   ]
  },
  {
   "cell_type": "markdown",
   "id": "72764994-a047-4870-b2dc-08f92f030266",
   "metadata": {},
   "source": [
    "---"
   ]
  }
 ],
 "metadata": {
  "kernelspec": {
   "display_name": "Python 3 (ipykernel)",
   "language": "python",
   "name": "python3"
  },
  "language_info": {
   "codemirror_mode": {
    "name": "ipython",
    "version": 3
   },
   "file_extension": ".py",
   "mimetype": "text/x-python",
   "name": "python",
   "nbconvert_exporter": "python",
   "pygments_lexer": "ipython3",
   "version": "3.12.4"
  }
 },
 "nbformat": 4,
 "nbformat_minor": 5
}

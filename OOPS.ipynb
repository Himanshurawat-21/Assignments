{
 "cells": [
  {
   "cell_type": "markdown",
   "id": "966c2406-347d-479e-b4a1-dd84f0772bd2",
   "metadata": {},
   "source": [
    "### Q.1. What is Object-Oriented Programming (OOP)?\n",
    "\n",
    "Ans> Object-Oriented Programming is a programming paradigm based on the concept of \"objects,\" which can contain data in the form of fields (often known as attributes or properties) and code in the form of procedures (often known as methods). The primary goal of OOP is to organize complex programs by bundling related properties and behaviors into individual objects.\n",
    "\n",
    "---"
   ]
  },
  {
   "cell_type": "markdown",
   "id": "2fa7cbc6-822c-4efe-9c6e-7b696b8f1772",
   "metadata": {},
   "source": [
    "### Q2. What is a class in OOP?\n",
    "\n",
    "A class is a blueprint for creating objects. It's a template that defines a set of attributes that will characterize any object (instance) created from it, as well as a set of methods or behaviors that the objects can perform.\n",
    "\n",
    "---"
   ]
  },
  {
   "cell_type": "markdown",
   "id": "6b2687cc-743d-48e1-a968-4632ce88935b",
   "metadata": {},
   "source": [
    "### Q.3. What is an object in OOP?\n",
    "\n",
    "An object is an instance of a class. When a class is defined, no memory is allocated until an object of that class is created. An object has the attributes and methods that were defined in its class blueprint.\n",
    "\n",
    "---"
   ]
  },
  {
   "cell_type": "markdown",
   "id": "3e74d5ab-a593-4f86-b83d-d8ad23a52b83",
   "metadata": {},
   "source": [
    "### Q.4. What is the difference between abstraction and encapsulation?\n",
    "\n",
    "Abstraction is the concept of hiding the complex implementation details and showing only the essential features of the object. It focuses on what an object does rather than how it does it.\n",
    "\n",
    "Encapsulation is the technique of bundling the data (attributes) and the methods that operate on the data into a single unit or class. It also includes restricting access to an object's components, which is a key part of preventing accidental modification of data (data hiding).\n",
    "\n",
    "---"
   ]
  },
  {
   "cell_type": "markdown",
   "id": "955cea2d-64ed-4752-8653-8a4dbac348d8",
   "metadata": {},
   "source": [
    "### Q.5. What are dunder methods in Python?\n",
    "\n",
    "Dunder (double underscore) methods are special methods in Python that are surrounded by double underscores, like $__init__()$, $__len__()$, and $__str__()$. They allow you to emulate the behavior of built-in types. For example, defining $__add__()$ in your class allows you to use the + operator on its objects.\n",
    "\n",
    "---"
   ]
  },
  {
   "cell_type": "markdown",
   "id": "ea3d6457-88cd-4d5c-a91f-2c2deb612ae3",
   "metadata": {},
   "source": [
    "### Q.6. Explain the concept of inheritance in OOP.\n",
    "\n",
    "Inheritance is a mechanism that allows a new class (subclass or child class) to inherit attributes and methods from an existing class (superclass or parent class). This promotes code reuse and establishes a relationship between classes.\n",
    "\n",
    "Example:\n",
    "\n",
    "    # Parent class\n",
    "    class Animal:\n",
    "        def __init__(self, name):\n",
    "            self.name = name\n",
    "\n",
    "        def speak(self):\n",
    "            raise NotImplementedError(\"Subclass must implement this method\")\n",
    "\n",
    "    # Child class inheriting from Animal\n",
    "    class Dog(Animal):\n",
    "        def speak(self):\n",
    "            return f\"{self.name} says Woof!\"\n",
    "\n",
    "    my_dog = Dog(\"Buddy\")\n",
    "    print(my_dog.speak()) # Output: Buddy says Woof!\n",
    "\n",
    "---"
   ]
  },
  {
   "cell_type": "markdown",
   "id": "fd6e2955-9bcb-4085-aa3f-4b59ad66411a",
   "metadata": {},
   "source": [
    "### Q.7. What is polymorphism in OOP?\n",
    "\n",
    "Polymorphism means \"many forms.\" In OOP, it's the ability of different objects to respond to the same method call in their own specific way. This allows for writing flexible and generic code.\n",
    "\n",
    "Example:\n",
    "\n",
    "    # Parent class\n",
    "    class Animal:\n",
    "        def __init__(self, name):\n",
    "            self.name = name\n",
    "\n",
    "        def speak(self):\n",
    "            raise NotImplementedError(\"Subclass must implement this method\")\n",
    "            \n",
    "    class Cat(Animal):  \n",
    "        def speak(self):\n",
    "            return f\"{self.name} says Meow!\"\n",
    "\n",
    "    # Polymorphism in action\n",
    "    buddy = Dog(\"Buddy\")\n",
    "    katty = Cat(\"katty\")\n",
    "\n",
    "    for animal in [buddy, katty]:\n",
    "        print(animal.speak())\n",
    "    # Output:\n",
    "    # Buddy says Woof!\n",
    "    # katty says Meow!\n",
    "\n",
    "---"
   ]
  },
  {
   "cell_type": "markdown",
   "id": "8347a68d-b2a6-4524-a686-d9371b357453",
   "metadata": {},
   "source": [
    "### Q.8. How is encapsulation achieved in Python?\n",
    "\n",
    "Encapsulation is primarily achieved by creating classes. For data hiding, Python uses a convention of prefixing attribute names with underscores:\n",
    "\n",
    "_variable: A single underscore prefix indicates a \"protected\" attribute, meant for internal use by the class and its subclasses.\n",
    "\n",
    "__variable: A double underscore prefix triggers \"name mangling,\" making it difficult to access the attribute from outside the class, effectively making it \"private.\"\n",
    "\n",
    "Example:\n",
    "\n",
    "    class Account:\n",
    "        def __init__(self, balance):\n",
    "            self.__balance = balance # Private attribute\n",
    "\n",
    "        def get_balance(self):\n",
    "            return self.__balance\n",
    "\n",
    "    acc = Account(1000)\n",
    "    # print(acc.__balance)  # This will cause an AttributeError\n",
    "    print(acc.get_balance()) # Correct way to access it\n",
    "    \n",
    "---"
   ]
  },
  {
   "cell_type": "markdown",
   "id": "b244b903-f26c-4d5d-8a64-7f1e3e83bdd6",
   "metadata": {},
   "source": [
    "### Q.9. What is a constructor in Python?\n",
    "\n",
    "A constructor is a special method called $__init__()$ that is automatically executed when a new object is created. Its primary purpose is to initialize the object's attributes.\n",
    "\n",
    "Example:\n",
    "\n",
    "    class Person:\n",
    "    # This is the constructor\n",
    "        def __init__(self, name, age):\n",
    "            print(\"A new Person object is being created!\")\n",
    "            self.name = name\n",
    "            self.age = age\n",
    "\n",
    "    p1 = Person(\"Himanshu\", 21)\n",
    "    print(p1.name) # Output: Himanshu\n",
    "\n",
    "---"
   ]
  },
  {
   "cell_type": "markdown",
   "id": "da8f6375-b88a-44c1-a29f-f733b0fed577",
   "metadata": {},
   "source": [
    "### Q.10. What are class and static methods in Python?\n",
    "Class Method (@classmethod): A method bound to the class, not the instance. Its first argument is the class itself (cls). They are often used as factory methods.\n",
    "\n",
    "Static Method (@staticmethod): A standard function that is namespaced within a class. It is not bound to the class or instance and doesn't take cls or self as the first argument.\n",
    "\n",
    "---"
   ]
  },
  {
   "cell_type": "markdown",
   "id": "61d682ab-bcd7-4580-addf-64ee9c00089c",
   "metadata": {},
   "source": [
    "### Q.11. What is method overloading in Python?\n",
    "\n",
    "Python does not support method overloading in the traditional sense (multiple methods with the same name but different parameter types). If you define a method with the same name multiple times, the last definition overrides the earlier ones. However, you can simulate this behavior using default arguments or variable-length arguments (*args, **kwargs).\n",
    "\n",
    "Example:\n",
    "\n",
    "    # Simulating overloading with default arguments\n",
    "    def add(a, b, c=0):\n",
    "        return a + b + c\n",
    "\n",
    "    print(add(2, 3))       # Output: 5\n",
    "    print(add(2, 3, 4))    # Output: 9\n",
    "\n",
    "---"
   ]
  },
  {
   "cell_type": "markdown",
   "id": "24771a30-e31d-4a67-973f-f037d9c8b35c",
   "metadata": {},
   "source": [
    "### Q.12. What is method overriding in OOP?\n",
    "\n",
    "Method overriding occurs in an inheritance relationship when a subclass provides a specific implementation for a method that is already defined in its parent class.\n",
    "\n",
    "Example:\n",
    "\n",
    "    class Vehicle:\n",
    "        def move(self):\n",
    "            print(\"Vehicle moves\")\n",
    "    \n",
    "    class Car(Vehicle):\n",
    "        # Overriding the parent's move method\n",
    "        def move(self):\n",
    "            print(\"Car drives on the road\")\n",
    "    \n",
    "    my_car = Car()\n",
    "    my_car.move() # Output: Car drives on the road\n",
    "\n",
    "---"
   ]
  },
  {
   "cell_type": "markdown",
   "id": "4c80aaf8-a6c1-465c-8659-000cb71bec2a",
   "metadata": {},
   "source": [
    "### Q.13. What is a property decorator in Python?\n",
    "\n",
    "The @property decorator is a built-in decorator that allows you to define methods that can be accessed as attributes. This is useful for creating \"getter\" methods while maintaining a clean, attribute-like syntax.\n",
    "\n",
    "Example:\n",
    "\n",
    "    class Circle:\n",
    "        def __init__(self, radius):\n",
    "            self._radius = radius\n",
    "    \n",
    "        @property\n",
    "        def diameter(self):\n",
    "            # This getter is accessed like an attribute\n",
    "            return self._radius * 2\n",
    "    \n",
    "    c = Circle(5)\n",
    "    print(c.diameter) # Access it like an attribute, not c.diameter()\n",
    "    # Output: 10\n",
    "\n",
    "---"
   ]
  },
  {
   "cell_type": "markdown",
   "id": "15c00505-1944-4aa3-99e8-d0de2d1fd37a",
   "metadata": {},
   "source": [
    "### Q.14. Why is polymorphism important in OOP?\n",
    "\n",
    "Polymorphism is crucial because it allows for writing generic, flexible, and extensible code. You can design functions or methods that operate on objects of a parent class, and they will work seamlessly with objects of any subclass without needing to know the specific type of the object. This reduces complexity and avoids conditional logic (if/elif/else) based on object type.\n",
    "\n",
    "---"
   ]
  },
  {
   "cell_type": "markdown",
   "id": "1e50531b-eb68-443c-a535-6b8bd6ab9560",
   "metadata": {},
   "source": [
    "### Q.15. What is an abstract class in Python?\n",
    "\n",
    "An abstract class is a class that cannot be instantiated. Its purpose is to serve as a blueprint for other classes. It can define abstract methods, which are declared but not implemented. Subclasses are required to implement these abstract methods. Python provides the abc module for this.\n",
    "\n",
    "Example:\n",
    "\n",
    "    from abc import ABC, abstractmethod\n",
    "    \n",
    "    class Shape(ABC): # Inherit from ABC\n",
    "        @abstractmethod\n",
    "        def area(self):\n",
    "            pass\n",
    "    \n",
    "    class Square(Shape):\n",
    "        def __init__(self, side):\n",
    "            self.side = side\n",
    "    \n",
    "        def area(self): # Must implement the abstract method\n",
    "            return self.side * self.side\n",
    "    \n",
    "    # s = Shape() # This would raise a TypeError\n",
    "    sq = Square(4)\n",
    "    print(sq.area()) # Output: 16\n",
    "\n",
    "---"
   ]
  },
  {
   "cell_type": "markdown",
   "id": "a5155f16-352d-4149-805b-3f5544bac209",
   "metadata": {},
   "source": [
    "### Q.16. What are the advantages of OOP?\n",
    "\n",
    "Modularity: Encapsulation makes objects self-contained, simplifying troubleshooting and collaborative development.\n",
    "\n",
    "Code Reusability: Inheritance allows for the reuse of code from existing classes.\n",
    "\n",
    "Flexibility: Polymorphism allows a single function to handle different types of objects.\n",
    "\n",
    "Maintainability: OOP models real-world problems, making the code easier to understand, maintain, and debug.\n",
    "\n",
    "Scalability: The modular nature of OOP makes it easier to build large and complex systems.\n",
    "\n",
    "---"
   ]
  },
  {
   "cell_type": "markdown",
   "id": "1e9fd53d-dd06-46f3-91b7-ee1b1a524506",
   "metadata": {},
   "source": [
    "### Q.17. What is multiple inheritance in Python?\n",
    "\n",
    "Multiple inheritance is a feature where a class can inherit attributes and methods from more than one parent class.\n",
    "\n",
    "Example:\n",
    "\n",
    "    class Father:\n",
    "        def skill_f(self):\n",
    "            print(\"Gardening\")\n",
    "    \n",
    "    class Mother:\n",
    "        def skill_m(self):\n",
    "            print(\"Cooking\")\n",
    "    \n",
    "    class Child(Father, Mother):\n",
    "        pass\n",
    "    \n",
    "    c = Child()\n",
    "    c.skill_f() # Output: Gardening\n",
    "    c.skill_m() # Output: Cooking\n",
    "\n",
    "---"
   ]
  },
  {
   "cell_type": "markdown",
   "id": "9abd70e1-4b26-47c2-9444-c8db8c30c8a7",
   "metadata": {},
   "source": [
    "### Q.18. What is the difference between a class variable and an instance variable?\n",
    "\n",
    "Class Variable: Shared by all instances of the class. There is only one copy of it.\n",
    "\n",
    "Instance Variable: Unique to each instance of the class. Each object has its own copy\n",
    "\n",
    "Example:\n",
    "\n",
    "    class Dog:\n",
    "        species = \"Canis familiaris\" # Class variable\n",
    "    \n",
    "        def __init__(self, name):\n",
    "            self.name = name # Instance variable\n",
    "    \n",
    "    d1 = Dog(\"Buddy\")\n",
    "    d2 = Dog(\"Lucy\")\n",
    "    \n",
    "    print(d1.species) # Output: Canis familiaris\n",
    "    print(d2.species) # Output: Canis familiaris\n",
    "    print(d1.name)    # Output: Buddy\n",
    "    print(d2.name)    # Output: Lucy\n",
    "\n",
    "---"
   ]
  },
  {
   "cell_type": "markdown",
   "id": "dc02ae35-be0e-4016-a071-415df1658938",
   "metadata": {},
   "source": [
    "### Q.19. Explain the purpose of __str__ and __repr__ methods in Python.\n",
    "\n",
    "Both return string representations of an object.\n",
    "\n",
    "$__str__()$: For creating a readable, user-friendly output. It is used by the print() function.\n",
    "\n",
    "$__repr__()$: For creating an unambiguous, developer-friendly output that could ideally be used to recreate the object. It is used when an object is displayed in the interactive console.\n",
    "\n",
    "Example:\n",
    "\n",
    "    class Point:\n",
    "        def __init__(self, x, y):\n",
    "            self.x = x\n",
    "            self.y = y\n",
    "    \n",
    "        def __str__(self):\n",
    "            return f\"Point at ({self.x}, {self.y})\"\n",
    "    \n",
    "        def __repr__(self):\n",
    "            return f\"Point(x={self.x}, y={self.y})\"\n",
    "    \n",
    "    p = Point(2, 3)\n",
    "    print(p)      # Uses __str__: Output: Point at (2, 3)\n",
    "    print(repr(p))# Uses __repr__: Output: Point(x=2, y=3)\n",
    "\n",
    "---"
   ]
  },
  {
   "cell_type": "markdown",
   "id": "233e8837-593a-475e-afdb-a11fe591ede8",
   "metadata": {},
   "source": [
    "### Q.20. What is the significance of the super() function in Python?\n",
    "\n",
    "The super() function allows a subclass to call methods of its superclass. It's essential for extending the functionality of inherited methods rather than completely replacing them, especially within the $__init__()$ method to ensure the parent class is properly initialized.\n",
    "\n",
    "Example:\n",
    "\n",
    "    class Parent:\n",
    "        def __init__(self, name):\n",
    "            self.name = name\n",
    "    \n",
    "    class Child(Parent):\n",
    "        def __init__(self, name, age):\n",
    "            super().__init__(name) # Call parent's constructor\n",
    "            self.age = age\n",
    "    \n",
    "    c = Child(\"Alex\", 10)\n",
    "    print(c.name, c.age) # Output: Alex 10\n",
    "\n",
    "    \n",
    "---"
   ]
  },
  {
   "cell_type": "markdown",
   "id": "a9a0dd3d-e279-4d72-a5c6-b04738cacc9e",
   "metadata": {},
   "source": [
    "### Q.21. What is the significance of the __del__ method in Python?\n",
    "\n",
    "$__del__()$ is a destructor method. Python's garbage collector calls it just before an object is destroyed. It's not as commonly used as constructors because Python handles memory management automatically, but it can be defined to perform cleanup tasks like closing files or network connections.\n",
    "\n",
    "---"
   ]
  },
  {
   "cell_type": "markdown",
   "id": "ea9897bf-4dc0-4e99-b698-52bd877c1dcd",
   "metadata": {},
   "source": [
    "### Q.22. What is the difference between @staticmethod and @classmethod in Python?\n",
    "\n",
    "@classmethod: Its first argument is the class itself (cls). It's bound to the class, so it can access class-level variables or be used as a factory method.\n",
    "\n",
    "@staticmethod: It is not bound to the class or an instance. It's essentially a regular function namespaced inside the class, used for utility purposes.\n",
    "\n",
    "Example:\n",
    "\n",
    "    class MathUtils:\n",
    "        PI = 3.14159\n",
    "    \n",
    "        @staticmethod\n",
    "        def add(a, b): # Knows nothing about the class\n",
    "            return a + b\n",
    "    \n",
    "        @classmethod\n",
    "        def circle_area(cls, radius): # Knows about the class\n",
    "            return cls.PI * (radius ** 2)\n",
    "    \n",
    "    print(MathUtils.add(5, 5)) # Output: 10\n",
    "    print(MathUtils.circle_area(2)) # Output: 12.56636\n",
    "\n",
    "---"
   ]
  },
  {
   "cell_type": "markdown",
   "id": "ffd41795-abe2-4a18-83b3-09bec1d41a05",
   "metadata": {},
   "source": [
    "### Q.23. How does polymorphism work in Python with inheritance?\n",
    "\n",
    "Polymorphism allows objects of different classes (that share a parent) to be treated through a common interface. When a method is called on an object, Python determines at runtime which version of the method to execute based on the object's actual class. This is also known as dynamic dispatch.\n",
    "\n",
    "Example:\n",
    "\n",
    "    # Using Animal, Dog, Cat classes from Q6 and Q7\n",
    "    def pet_sound(pet):\n",
    "        print(pet.speak())\n",
    "    \n",
    "    buddy = Dog(\"Buddy\")\n",
    "    katty = Cat(\"katty\")\n",
    "    \n",
    "    pet_sound(buddy)    # Executes Dog's speak() method\n",
    "    pet_sound(katty) # Executes Cat's speak() method\n",
    "    \n",
    "---"
   ]
  },
  {
   "cell_type": "markdown",
   "id": "d36f65f7-a4d6-4726-aae4-9cea530390f4",
   "metadata": {},
   "source": [
    "### Q.24. What is method chaining in Python OOP?\n",
    "\n",
    "Method chaining is a pattern where multiple methods are called sequentially on the same object in a single line of code. This is achieved by having each method in the chain return the instance itself (return self).\n",
    "\n",
    "Example:\n",
    "\n",
    "    class TextManipulator:\n",
    "        def __init__(self, text):\n",
    "            self.text = text\n",
    "    \n",
    "        def uppercase(self):\n",
    "            self.text = self.text.upper()\n",
    "            return self # Return the instance\n",
    "    \n",
    "        def reverse(self):\n",
    "            self.text = self.text[::-1]\n",
    "            return self # Return the instance\n",
    "    \n",
    "    result = TextManipulator(\"hello\").uppercase().reverse()\n",
    "    print(result.text) # Output: OLLEH\n",
    "    \n",
    "---"
   ]
  },
  {
   "cell_type": "markdown",
   "id": "a9979d78-9815-44c4-b5b5-8087fb970018",
   "metadata": {},
   "source": [
    "### Q.25. What is the purpose of the __call__ method in Python?\n",
    "\n",
    "The $__call__()$ method allows an instance of a class to be called as if it were a function. This is useful for creating objects that maintain state between calls.\n",
    "\n",
    "    class Counter:\n",
    "        def __init__(self):\n",
    "            self.count = 0\n",
    "    \n",
    "        def __call__(self):\n",
    "            self.count += 1\n",
    "            print(f\"Called {self.count} times\")\n",
    "    \n",
    "    c = Counter()\n",
    "    c() # Output: Called 1 times\n",
    "    c() # Output: Called 2 times\n",
    "\n",
    "---"
   ]
  },
  {
   "cell_type": "markdown",
   "id": "b5d084ca-69b4-492f-8e9b-a2a73c27dabc",
   "metadata": {},
   "source": [
    "# Practical Questions"
   ]
  },
  {
   "cell_type": "markdown",
   "id": "ee65e058-8bb6-4203-9b6c-35b4bf3b3d0c",
   "metadata": {},
   "source": [
    "### Q.1. Create a parent class Animal with a method speak() that prints a generic message. Create a child class Dog that overrides the speak() method to print \"Bark!\""
   ]
  },
  {
   "cell_type": "code",
   "execution_count": 3,
   "id": "009a1f15-e768-4635-8e79-884a4a4ebee3",
   "metadata": {},
   "outputs": [
    {
     "name": "stdout",
     "output_type": "stream",
     "text": [
      "--- 1. Simple Inheritance ---\n",
      "Bark!\n"
     ]
    }
   ],
   "source": [
    "print(\"--- 1. Simple Inheritance ---\")\n",
    "class Animal:\n",
    "    \"\"\"Parent class with a generic speak method.\"\"\"\n",
    "    def speak(self):\n",
    "        print(\"Animal makes a sound.\")\n",
    "\n",
    "class Dog(Animal):\n",
    "    \"\"\"Child class that overrides the speak method.\"\"\"\n",
    "    def speak(self):\n",
    "        print(\"Bark!\")\n",
    "\n",
    "# Create an instance of the Dog class and call the overridden method\n",
    "d = Dog()\n",
    "d.speak()"
   ]
  },
  {
   "cell_type": "markdown",
   "id": "f2a26865-d950-4435-a3b7-439e068f928c",
   "metadata": {},
   "source": [
    "---"
   ]
  },
  {
   "cell_type": "markdown",
   "id": "5c844d46-fe29-4a0e-a6bf-9941fc582539",
   "metadata": {},
   "source": [
    "### Q.2. Write a program to create an abstract class Shape with a method area(). Derive classes Circle and Rectangle from it and implement the area() method in both."
   ]
  },
  {
   "cell_type": "code",
   "execution_count": 4,
   "id": "b0c114a9-2fcd-48f6-8636-a26f394a6a13",
   "metadata": {},
   "outputs": [
    {
     "name": "stdout",
     "output_type": "stream",
     "text": [
      "\n",
      "--- 2. Abstract Base Class ---\n",
      "Area of Circle: 78.5\n",
      "Area of Rectangle: 24\n"
     ]
    }
   ],
   "source": [
    "print(\"\\n--- 2. Abstract Base Class ---\")\n",
    "from abc import ABC, abstractmethod\n",
    "\n",
    "class Shape(ABC):\n",
    "    \"\"\"Abstract base class 'Shape'.\"\"\"\n",
    "    @abstractmethod\n",
    "    def area(self):\n",
    "        \"\"\"Abstract method to be implemented by subclasses.\"\"\"\n",
    "        pass\n",
    "\n",
    "class Circle(Shape):\n",
    "    \"\"\"Derived class 'Circle'.\"\"\"\n",
    "    def __init__(self, radius):\n",
    "        self.radius = radius\n",
    "\n",
    "    def area(self):\n",
    "        \"\"\"Implementation of the abstract area method.\"\"\"\n",
    "        return 3.14 * self.radius * self.radius\n",
    "\n",
    "class Rectangle(Shape):\n",
    "    \"\"\"Derived class 'Rectangle'.\"\"\"\n",
    "    def __init__(self, width, height):\n",
    "        self.width = width\n",
    "        self.height = height\n",
    "\n",
    "    def area(self):\n",
    "        \"\"\"Implementation of the abstract area method.\"\"\"\n",
    "        return self.width * self.height\n",
    "\n",
    "# Create instances and calculate their areas\n",
    "c = Circle(5)\n",
    "r = Rectangle(4, 6)\n",
    "print(f\"Area of Circle: {c.area()}\")\n",
    "print(f\"Area of Rectangle: {r.area()}\")"
   ]
  },
  {
   "cell_type": "markdown",
   "id": "790436a1-4020-4597-8242-c450264d12a9",
   "metadata": {},
   "source": [
    "---"
   ]
  },
  {
   "cell_type": "markdown",
   "id": "c9027e3a-e797-4974-8451-1f322c35198d",
   "metadata": {},
   "source": [
    "### Q.3. Implement a multi-level inheritance scenario where a class Vehicle has an attribute type. Derive a class Car and further derive a class ElectricCar that adds a battery attribute."
   ]
  },
  {
   "cell_type": "code",
   "execution_count": 5,
   "id": "67a213a4-3dd3-4b97-8d02-9e4e401e08e9",
   "metadata": {},
   "outputs": [
    {
     "name": "stdout",
     "output_type": "stream",
     "text": [
      "\n",
      "--- 3. Multi-level Inheritance ---\n",
      "Type: Electric, Model: Tesla Model S, Battery: 100 kWh\n"
     ]
    }
   ],
   "source": [
    "print(\"\\n--- 3. Multi-level Inheritance ---\")\n",
    "class Vehicle:\n",
    "    \"\"\"Base class.\"\"\"\n",
    "    def __init__(self, vehicle_type):\n",
    "        self.type = vehicle_type\n",
    "\n",
    "class Car(Vehicle):\n",
    "    \"\"\"Derived class from Vehicle.\"\"\"\n",
    "    def __init__(self, vehicle_type, model):\n",
    "        super().__init__(vehicle_type)\n",
    "        self.model = model\n",
    "\n",
    "class ElectricCar(Car):\n",
    "    \"\"\"Derived class from Car, demonstrating multi-level inheritance.\"\"\"\n",
    "    def __init__(self, vehicle_type, model, battery_capacity):\n",
    "        super().__init__(vehicle_type, model)\n",
    "        self.battery_capacity = battery_capacity\n",
    "\n",
    "    def display_info(self):\n",
    "        print(f\"Type: {self.type}, Model: {self.model}, Battery: {self.battery_capacity} kWh\")\n",
    "\n",
    "# Create an instance of the most derived class\n",
    "my_ev = ElectricCar(\"Electric\", \"Tesla Model S\", 100)\n",
    "my_ev.display_info()"
   ]
  },
  {
   "cell_type": "markdown",
   "id": "eda9c894-17ab-49ef-a805-119384bb3354",
   "metadata": {},
   "source": [
    "---"
   ]
  },
  {
   "cell_type": "markdown",
   "id": "92609267-c808-4889-ac29-0a64a3e2fe11",
   "metadata": {},
   "source": [
    "### Q.4. Demonstrate polymorphism by creating a base class Bird with a method fly(). Create two derived classes Sparrow and Penguin that override the fly() method. "
   ]
  },
  {
   "cell_type": "code",
   "execution_count": 21,
   "id": "8ed3c89e-9ee7-4103-8d9a-83245fb5ceb4",
   "metadata": {},
   "outputs": [
    {
     "name": "stdout",
     "output_type": "stream",
     "text": [
      "\n",
      "--- 4. Polymorphism ---\n",
      "Sparrow flies high.\n",
      "Penguin cannot fly, but it can swim.\n"
     ]
    }
   ],
   "source": [
    "print(\"\\n--- 4. Polymorphism ---\")\n",
    "class Bird:\n",
    "    \"\"\"Base class for birds.\"\"\"\n",
    "    def fly(self):\n",
    "        print(\"This bird can fly.\")\n",
    "\n",
    "class Sparrow(Bird):\n",
    "    \"\"\"Sparrow can fly.\"\"\"\n",
    "    def fly(self):\n",
    "        print(\"Sparrow flies high.\")\n",
    "\n",
    "class Penguin(Bird):\n",
    "    \"\"\"Penguin cannot fly, so it overrides the method differently.\"\"\"\n",
    "    def fly(self):\n",
    "        print(\"Penguin cannot fly, but it can swim.\")\n",
    "\n",
    "def make_bird_fly(bird):\n",
    "    \"\"\"This function demonstrates polymorphism.\"\"\"\n",
    "    bird.fly()\n",
    "\n",
    "# Create instances of different bird types\n",
    "sparrow = Sparrow()\n",
    "penguin = Penguin()\n",
    "\n",
    "# Call the same function with different objects\n",
    "make_bird_fly(sparrow)\n",
    "make_bird_fly(penguin)"
   ]
  },
  {
   "cell_type": "markdown",
   "id": "3cf2a25d-e9bc-4e67-a590-8860185c16da",
   "metadata": {},
   "source": [
    "---"
   ]
  },
  {
   "cell_type": "markdown",
   "id": "4a39ee71-4e65-4706-a92e-9f316f163d7f",
   "metadata": {},
   "source": [
    "### Q.5. Write a program to demonstrate encapsulation by creating a class BankAccount with private attributes balance and methods to deposit, withdraw, and check balance."
   ]
  },
  {
   "cell_type": "code",
   "execution_count": 22,
   "id": "2428b576-0e03-425b-964c-dad3251feb23",
   "metadata": {},
   "outputs": [
    {
     "name": "stdout",
     "output_type": "stream",
     "text": [
      "\n",
      "--- 5. Encapsulation ---\n",
      "Current balance is $1000.\n",
      "Deposited $500.\n",
      "Withdrew $200.\n",
      "Current balance is $1300.\n"
     ]
    }
   ],
   "source": [
    "print(\"\\n--- 5. Encapsulation ---\")\n",
    "class BankAccount:\n",
    "    \"\"\"Demonstrates encapsulation with a private attribute.\"\"\"\n",
    "    def __init__(self, initial_balance):\n",
    "        # The double underscore makes the attribute private\n",
    "        self.__balance = initial_balance\n",
    "\n",
    "    def deposit(self, amount):\n",
    "        if amount > 0:\n",
    "            self.__balance += amount\n",
    "            print(f\"Deposited ${amount}.\")\n",
    "        else:\n",
    "            print(\"Deposit amount must be positive.\")\n",
    "\n",
    "    def withdraw(self, amount):\n",
    "        if 0 < amount <= self.__balance:\n",
    "            self.__balance -= amount\n",
    "            print(f\"Withdrew ${amount}.\")\n",
    "        else:\n",
    "            print(\"Invalid withdrawal amount or insufficient funds.\")\n",
    "\n",
    "    def check_balance(self):\n",
    "        print(f\"Current balance is ${self.__balance}.\")\n",
    "\n",
    "# Create an account and perform transactions\n",
    "acc = BankAccount(1000)\n",
    "acc.check_balance()\n",
    "acc.deposit(500)\n",
    "acc.withdraw(200)\n",
    "acc.check_balance()\n",
    "# This will raise an AttributeError because __balance is private\n",
    "# print(acc.__balance)"
   ]
  },
  {
   "cell_type": "markdown",
   "id": "e84e493c-0ca7-429f-84b7-ffb11ebae54a",
   "metadata": {},
   "source": [
    "---"
   ]
  },
  {
   "cell_type": "markdown",
   "id": "8a20abfe-f005-48de-b629-9c49dbc1e502",
   "metadata": {},
   "source": [
    "### Q.6. Demonstrate runtime polymorphism using a method play() in a base class Instrument. Derive classes Guitar and Piano that implement their own version of play()."
   ]
  },
  {
   "cell_type": "code",
   "execution_count": 23,
   "id": "60d052f0-669d-4f6e-b868-e0d115f2b70b",
   "metadata": {},
   "outputs": [
    {
     "name": "stdout",
     "output_type": "stream",
     "text": [
      "\n",
      "--- 6. Runtime Polymorphism ---\n",
      "The guitar strums.\n",
      "The piano plays a melody.\n",
      "The instrument makes a sound.\n"
     ]
    }
   ],
   "source": [
    "print(\"\\n--- 6. Runtime Polymorphism ---\")\n",
    "class Instrument:\n",
    "    \"\"\"Base class for musical instruments.\"\"\"\n",
    "    def play(self):\n",
    "        print(\"The instrument makes a sound.\")\n",
    "\n",
    "class Guitar(Instrument):\n",
    "    \"\"\"Guitar class.\"\"\"\n",
    "    def play(self):\n",
    "        print(\"The guitar strums.\")\n",
    "\n",
    "class Piano(Instrument):\n",
    "    \"\"\"Piano class.\"\"\"\n",
    "    def play(self):\n",
    "        print(\"The piano plays a melody.\")\n",
    "\n",
    "# A list of different instrument objects\n",
    "instruments = [Guitar(), Piano(), Instrument()]\n",
    "\n",
    "# Iterate and call the play method on each object\n",
    "# Python determines which method to call at runtime\n",
    "for instrument in instruments:\n",
    "    instrument.play()"
   ]
  },
  {
   "cell_type": "markdown",
   "id": "eed0e1f9-9a9f-412d-be39-2d89b1ea8570",
   "metadata": {},
   "source": [
    "---"
   ]
  },
  {
   "cell_type": "markdown",
   "id": "d7663a75-37b9-44eb-9d02-8b641f7184dd",
   "metadata": {},
   "source": [
    "### Q.7. Create a class MathOperations with a class method add_numbers() to add two numbers and a static method subtract_numbers() to subtract two numbers."
   ]
  },
  {
   "cell_type": "code",
   "execution_count": 9,
   "id": "d609f7e0-e2f7-4aba-88a2-ccb249006220",
   "metadata": {},
   "outputs": [
    {
     "name": "stdout",
     "output_type": "stream",
     "text": [
      "\n",
      "--- 7. Class and Static Methods ---\n",
      "Executing from class: MathOperations\n",
      "Sum: 15\n",
      "Difference: 5\n"
     ]
    }
   ],
   "source": [
    "print(\"\\n--- 7. Class and Static Methods ---\")\n",
    "class MathOperations:\n",
    "    @classmethod\n",
    "    def add_numbers(cls, num1, num2):\n",
    "        \"\"\"A class method doesn't need an instance to be called.\"\"\"\n",
    "        print(f\"Executing from class: {cls.__name__}\")\n",
    "        return num1 + num2\n",
    "\n",
    "    @staticmethod\n",
    "    def subtract_numbers(num1, num2):\n",
    "        \"\"\"A static method is like a regular function namespaced in the class.\"\"\"\n",
    "        return num1 - num2\n",
    "\n",
    "# Call methods directly on the class\n",
    "sum_result = MathOperations.add_numbers(10, 5)\n",
    "diff_result = MathOperations.subtract_numbers(10, 5)\n",
    "print(f\"Sum: {sum_result}\")\n",
    "print(f\"Difference: {diff_result}\")"
   ]
  },
  {
   "cell_type": "markdown",
   "id": "0ecfbd92-0a3e-4648-ab29-ad2ae6731759",
   "metadata": {},
   "source": [
    "---"
   ]
  },
  {
   "cell_type": "markdown",
   "id": "34d5d784-eb80-44a6-bc5b-a0d868539a33",
   "metadata": {},
   "source": [
    "### Q.8. Implement a class Person with a class method to count the total number of persons created."
   ]
  },
  {
   "cell_type": "code",
   "execution_count": 10,
   "id": "146a6d5b-5d74-4f5d-b19a-3c533f126bbd",
   "metadata": {},
   "outputs": [
    {
     "name": "stdout",
     "output_type": "stream",
     "text": [
      "\n",
      "--- 8. Class Method to Count Instances ---\n",
      "Total number of persons created: 3\n"
     ]
    }
   ],
   "source": [
    "print(\"\\n--- 8. Class Method to Count Instances ---\")\n",
    "class PersonCounter:\n",
    "    # Class variable to keep track of the count\n",
    "    total_persons = 0\n",
    "\n",
    "    def __init__(self, name):\n",
    "        self.name = name\n",
    "        # Increment the class variable each time a new instance is created\n",
    "        PersonCounter.total_persons += 1\n",
    "\n",
    "    @classmethod\n",
    "    def get_total_persons(cls):\n",
    "        \"\"\"Class method to return the total count.\"\"\"\n",
    "        return cls.total_persons\n",
    "\n",
    "# Create several instances of the class\n",
    "p1 = PersonCounter(\"Alice\")\n",
    "p2 = PersonCounter(\"Bob\")\n",
    "p3 = PersonCounter(\"Charlie\")\n",
    "\n",
    "# Get the total count using the class method\n",
    "print(f\"Total number of persons created: {PersonCounter.get_total_persons()}\")"
   ]
  },
  {
   "cell_type": "markdown",
   "id": "156c470c-1817-47af-8408-d50707035557",
   "metadata": {},
   "source": [
    "---"
   ]
  },
  {
   "cell_type": "markdown",
   "id": "686ab52d-ecc0-4edc-b3d2-486b5342c331",
   "metadata": {},
   "source": [
    "### Q.9. Write a class Fraction with attributes numerator and denominator. Override the str method to display the fraction as \"numerator/denominator\"."
   ]
  },
  {
   "cell_type": "code",
   "execution_count": 11,
   "id": "1dbfbac2-69ce-4135-ac84-7baa307e3f53",
   "metadata": {},
   "outputs": [
    {
     "name": "stdout",
     "output_type": "stream",
     "text": [
      "\n",
      "--- 9. Override __str__ ---\n",
      "3/4\n"
     ]
    }
   ],
   "source": [
    "print(\"\\n--- 9. Override __str__ ---\")\n",
    "class Fraction:\n",
    "    def __init__(self, numerator, denominator):\n",
    "        self.numerator = numerator\n",
    "        self.denominator = denominator\n",
    "\n",
    "    def __str__(self):\n",
    "        \"\"\"Overrides the default string representation.\"\"\"\n",
    "        return f\"{self.numerator}/{self.denominator}\"\n",
    "\n",
    "# Create a fraction and print it\n",
    "f = Fraction(3, 4)\n",
    "print(f)"
   ]
  },
  {
   "cell_type": "markdown",
   "id": "3beb662e-5eeb-49d8-9566-89166cc359ab",
   "metadata": {},
   "source": [
    "---"
   ]
  },
  {
   "cell_type": "markdown",
   "id": "b23fe19f-da0a-4e78-8544-bac96aec1d20",
   "metadata": {},
   "source": [
    "### Q.10. Demonstrate operator overloading by creating a class Vector and overriding the add method to add two vectors."
   ]
  },
  {
   "cell_type": "code",
   "execution_count": 12,
   "id": "37a95504-1cc7-40fc-b593-e39e05561fc9",
   "metadata": {},
   "outputs": [
    {
     "name": "stdout",
     "output_type": "stream",
     "text": [
      "\n",
      "--- 10. Operator Overloading ---\n",
      "Vector(5, 9)\n"
     ]
    }
   ],
   "source": [
    "print(\"\\n--- 10. Operator Overloading ---\")\n",
    "class Vector:\n",
    "    def __init__(self, x, y):\n",
    "        self.x = x\n",
    "        self.y = y\n",
    "\n",
    "    def __add__(self, other):\n",
    "        \"\"\"Overrides the '+' operator for Vector objects.\"\"\"\n",
    "        return Vector(self.x + other.x, self.y + other.y)\n",
    "\n",
    "    def __str__(self):\n",
    "        \"\"\"String representation for printing.\"\"\"\n",
    "        return f\"Vector({self.x}, {self.y})\"\n",
    "\n",
    "v1 = Vector(2, 4)\n",
    "v2 = Vector(3, 5)\n",
    "v3 = v1 + v2  # This uses the overridden __add__ method\n",
    "print(v3)"
   ]
  },
  {
   "cell_type": "markdown",
   "id": "f5af5753-6684-428a-8816-ccec6b0df89d",
   "metadata": {},
   "source": [
    "---"
   ]
  },
  {
   "cell_type": "markdown",
   "id": "a14a1fbd-fd2a-4ba0-90d3-af62a3f18298",
   "metadata": {},
   "source": [
    "### Q.11. Create a class Person with attributes name and age. Add a method greet() that prints \"Hello, my name is {name} and I am {age} years old.\""
   ]
  },
  {
   "cell_type": "code",
   "execution_count": 13,
   "id": "118d5e97-313d-4173-87f3-541184368d81",
   "metadata": {},
   "outputs": [
    {
     "name": "stdout",
     "output_type": "stream",
     "text": [
      "\n",
      "--- 11. Basic Class: Person ---\n",
      "Hello, my name is Himanshu and I am 21 years old.\n"
     ]
    }
   ],
   "source": [
    "print(\"\\n--- 11. Basic Class: Person ---\")\n",
    "class Person:\n",
    "    def __init__(self, name, age):\n",
    "        self.name = name\n",
    "        self.age = age\n",
    "\n",
    "    def greet(self):\n",
    "        print(f\"Hello, my name is {self.name} and I am {self.age} years old.\")\n",
    "\n",
    "# Create an instance and call the method\n",
    "person_info = Person(\"Himanshu\", 21)\n",
    "person_info.greet()"
   ]
  },
  {
   "cell_type": "markdown",
   "id": "734441a4-7264-45ab-a2b8-bf3a10232c84",
   "metadata": {},
   "source": [
    "---"
   ]
  },
  {
   "cell_type": "markdown",
   "id": "d9513d32-d0be-46e1-83a5-90e100a15b99",
   "metadata": {},
   "source": [
    "### Q.12. Implement a class Student with attributes name and grades. Create a method average_grade() to compute the average of the grades."
   ]
  },
  {
   "cell_type": "code",
   "execution_count": 14,
   "id": "08d90a0b-7023-4116-afd2-bb1b6f5bc8ea",
   "metadata": {},
   "outputs": [
    {
     "name": "stdout",
     "output_type": "stream",
     "text": [
      "\n",
      "--- 12. Class: Student ---\n",
      "John Doe's average grade is: 86.25\n"
     ]
    }
   ],
   "source": [
    "print(\"\\n--- 12. Class: Student ---\")\n",
    "class Student:\n",
    "    def __init__(self, name, grades):\n",
    "        self.name = name\n",
    "        self.grades = grades  # Expects a list of numbers\n",
    "\n",
    "    def average_grade(self):\n",
    "        \"\"\"Computes the average of the grades.\"\"\"\n",
    "        if not self.grades:\n",
    "            return 0\n",
    "        return sum(self.grades) / len(self.grades)\n",
    "\n",
    "# Create a student and calculate average grade\n",
    "s1 = Student(\"John Doe\", [85, 92, 78, 90])\n",
    "print(f\"{s1.name}'s average grade is: {s1.average_grade()}\")"
   ]
  },
  {
   "cell_type": "markdown",
   "id": "781a6ec6-8bda-4069-ae02-a4859d305c86",
   "metadata": {},
   "source": [
    "---"
   ]
  },
  {
   "cell_type": "markdown",
   "id": "94c544d6-d25b-4cf4-a22c-6cd9f1e5915a",
   "metadata": {},
   "source": [
    "### Q.13. Create a class Rectangle with methods set_dimensions() to set the dimensions and area() to calculate the area."
   ]
  },
  {
   "cell_type": "code",
   "execution_count": 15,
   "id": "50363721-8193-4480-a682-d14de174dff0",
   "metadata": {},
   "outputs": [
    {
     "name": "stdout",
     "output_type": "stream",
     "text": [
      "\n",
      "--- 13. Class: Rectangle ---\n",
      "The area of the rectangle is: 50\n"
     ]
    }
   ],
   "source": [
    "print(\"\\n--- 13. Class: Rectangle ---\")\n",
    "class Rectangle:\n",
    "    def __init__(self):\n",
    "        self.width = 0\n",
    "        self.height = 0\n",
    "\n",
    "    def set_dimensions(self, width, height):\n",
    "        self.width = width\n",
    "        self.height = height\n",
    "\n",
    "    def area(self):\n",
    "        return self.width * self.height\n",
    "\n",
    "# Create a rectangle, set its dimensions, and find its area\n",
    "rect = Rectangle()\n",
    "rect.set_dimensions(10, 5)\n",
    "print(f\"The area of the rectangle is: {rect.area()}\")"
   ]
  },
  {
   "cell_type": "markdown",
   "id": "2489b634-6248-4cde-bfee-f681564b5c52",
   "metadata": {},
   "source": [
    "---"
   ]
  },
  {
   "cell_type": "markdown",
   "id": "9282befc-2e73-4af6-87a9-85399d97c8be",
   "metadata": {},
   "source": [
    "### Q.14. Create a class Employee with a method calculate_salary() that computes the salary based on hours worked and hourly rate. Create a derived class Manager that adds a bonus to the salary."
   ]
  },
  {
   "cell_type": "code",
   "execution_count": 16,
   "id": "bfc53dfa-49da-4591-8327-a35074f24245",
   "metadata": {},
   "outputs": [
    {
     "name": "stdout",
     "output_type": "stream",
     "text": [
      "\n",
      "--- 14. Inheritance: Employee and Manager ---\n",
      "Employee salary: $3200\n",
      "Manager salary: $8500\n"
     ]
    }
   ],
   "source": [
    "print(\"\\n--- 14. Inheritance: Employee and Manager ---\")\n",
    "class Employee:\n",
    "    def __init__(self, hours_worked, hourly_rate):\n",
    "        self.hours_worked = hours_worked\n",
    "        self.hourly_rate = hourly_rate\n",
    "\n",
    "    def calculate_salary(self):\n",
    "        return self.hours_worked * self.hourly_rate\n",
    "\n",
    "class Manager(Employee):\n",
    "    def __init__(self, hours_worked, hourly_rate, bonus):\n",
    "        super().__init__(hours_worked, hourly_rate)\n",
    "        self.bonus = bonus\n",
    "\n",
    "    def calculate_salary(self):\n",
    "        \"\"\"Overrides the parent method to add a bonus.\"\"\"\n",
    "        base_salary = super().calculate_salary()\n",
    "        return base_salary + self.bonus\n",
    "\n",
    "# Create instances and calculate salaries\n",
    "emp = Employee(160, 20)\n",
    "mgr = Manager(160, 50, 500)\n",
    "print(f\"Employee salary: ${emp.calculate_salary()}\")\n",
    "print(f\"Manager salary: ${mgr.calculate_salary()}\")"
   ]
  },
  {
   "cell_type": "markdown",
   "id": "02265877-25c7-4264-8bc8-8c48374a00ae",
   "metadata": {},
   "source": [
    "---"
   ]
  },
  {
   "cell_type": "markdown",
   "id": "531fa352-5f7f-40c1-915c-c6c98a49d682",
   "metadata": {},
   "source": [
    "### Q.15. Create a class Product with attributes name, price, and quantity. Implement a method total_price() that calculates the total price of the product"
   ]
  },
  {
   "cell_type": "code",
   "execution_count": 17,
   "id": "a783250d-d82c-4fd7-a75c-3b7ae36d6fba",
   "metadata": {},
   "outputs": [
    {
     "name": "stdout",
     "output_type": "stream",
     "text": [
      "\n",
      "--- 15. Class: Product ---\n",
      "Total price for Apples: $15.0\n"
     ]
    }
   ],
   "source": [
    "print(\"\\n--- 15. Class: Product ---\")\n",
    "class Product:\n",
    "    def __init__(self, name, price, quantity):\n",
    "        self.name = name\n",
    "        self.price = price\n",
    "        self.quantity = quantity\n",
    "\n",
    "    def total_price(self):\n",
    "        return self.price * self.quantity\n",
    "\n",
    "# Create a product and calculate its total price\n",
    "apple = Product(\"Apple\", 1.5, 10)\n",
    "print(f\"Total price for {apple.name}s: ${apple.total_price()}\")"
   ]
  },
  {
   "cell_type": "markdown",
   "id": "00565bb8-c82f-48d1-8665-0a7ccf7331c1",
   "metadata": {},
   "source": [
    "---"
   ]
  },
  {
   "cell_type": "markdown",
   "id": "68fd0ec8-c761-4e55-a850-df5c2b712098",
   "metadata": {},
   "source": [
    "### Q.16. Create a class Animal with an abstract method sound(). Create two derived classes Cow and Sheep that implement the sound() method."
   ]
  },
  {
   "cell_type": "code",
   "execution_count": 18,
   "id": "d8b45a7c-8b2f-4d7f-99eb-c6217a332343",
   "metadata": {},
   "outputs": [
    {
     "name": "stdout",
     "output_type": "stream",
     "text": [
      "\n",
      "--- 16. Abstract Class: Animal Sound ---\n",
      "A cow says: Moo\n",
      "A sheep says: Baa\n"
     ]
    }
   ],
   "source": [
    "print(\"\\n--- 16. Abstract Class: Animal Sound ---\")\n",
    "# from abc import ABC, abstractmethod (already imported)\n",
    "class AnimalSound(ABC):\n",
    "    @abstractmethod\n",
    "    def sound(self):\n",
    "        pass\n",
    "\n",
    "class Cow(AnimalSound):\n",
    "    def sound(self):\n",
    "        return \"Moo\"\n",
    "\n",
    "class Sheep(AnimalSound):\n",
    "    def sound(self):\n",
    "        return \"Baa\"\n",
    "\n",
    "# Create instances and call the implemented method\n",
    "cow = Cow()\n",
    "sheep = Sheep()\n",
    "print(f\"A cow says: {cow.sound()}\")\n",
    "print(f\"A sheep says: {sheep.sound()}\")"
   ]
  },
  {
   "cell_type": "markdown",
   "id": "693d221b-87bf-4588-b9d4-a359ad469ada",
   "metadata": {},
   "source": [
    "---"
   ]
  },
  {
   "cell_type": "markdown",
   "id": "0e322384-4f32-4263-9c11-540dab347c7a",
   "metadata": {},
   "source": [
    "### Q.17. Create a class Book with attributes title, author, and year_published. Add a method get_book_info() that returns a formatted string with the book's details."
   ]
  },
  {
   "cell_type": "code",
   "execution_count": 19,
   "id": "4d8f77ea-6f2c-4818-a2d2-c0baf2c3e6d6",
   "metadata": {},
   "outputs": [
    {
     "name": "stdout",
     "output_type": "stream",
     "text": [
      "\n",
      "--- 17. Class: Book ---\n",
      "Title: 1984, Author: George Orwell, Year: 1949\n"
     ]
    }
   ],
   "source": [
    "print(\"\\n--- 17. Class: Book ---\")\n",
    "class Book:\n",
    "    def __init__(self, title, author, year_published):\n",
    "        self.title = title\n",
    "        self.author = author\n",
    "        self.year_published = year_published\n",
    "\n",
    "    def get_book_info(self):\n",
    "        return f\"Title: {self.title}, Author: {self.author}, Year: {self.year_published}\"\n",
    "\n",
    "# Create a book and get its information\n",
    "book1 = Book(\"1984\", \"George Orwell\", 1949)\n",
    "print(book1.get_book_info())"
   ]
  },
  {
   "cell_type": "markdown",
   "id": "981bbaa2-2b03-487b-b8dc-c64e21479038",
   "metadata": {},
   "source": [
    "---"
   ]
  },
  {
   "cell_type": "markdown",
   "id": "44c035c5-7f49-43f2-be81-a2253bba5d3a",
   "metadata": {},
   "source": [
    "### Q.18. Create a class House with attributes address and price. Create a derived class Mansion that adds an attribute number_of_rooms."
   ]
  },
  {
   "cell_type": "code",
   "execution_count": 20,
   "id": "aff6552f-94b6-45eb-8f80-848d4428e29b",
   "metadata": {},
   "outputs": [
    {
     "name": "stdout",
     "output_type": "stream",
     "text": [
      "\n",
      "--- 18. Inheritance: House and Mansion ---\n",
      "Address: 123 Luxury Lane, Price: $5000000, Rooms: 15\n"
     ]
    }
   ],
   "source": [
    "print(\"\\n--- 18. Inheritance: House and Mansion ---\")\n",
    "class House:\n",
    "    def __init__(self, address, price):\n",
    "        self.address = address\n",
    "        self.price = price\n",
    "\n",
    "class Mansion(House):\n",
    "    def __init__(self, address, price, number_of_rooms):\n",
    "        # Call the parent class constructor\n",
    "        super().__init__(address, price)\n",
    "        # Add the new attribute\n",
    "        self.number_of_rooms = number_of_rooms\n",
    "\n",
    "    def display_details(self):\n",
    "        print(f\"Address: {self.address}, Price: ${self.price}, Rooms: {self.number_of_rooms}\")\n",
    "\n",
    "# Create a Mansion instance and display its details\n",
    "my_mansion = Mansion(\"123 Luxury Lane\", 5000000, 15)\n",
    "my_mansion.display_details()"
   ]
  },
  {
   "cell_type": "markdown",
   "id": "ad59bacb-3152-41d2-8915-0ba1107ca16a",
   "metadata": {},
   "source": [
    "---"
   ]
  },
  {
   "cell_type": "code",
   "execution_count": null,
   "id": "1fd37bb3-e254-40cc-a6b7-ec25d35fd97a",
   "metadata": {},
   "outputs": [],
   "source": []
  }
 ],
 "metadata": {
  "kernelspec": {
   "display_name": "Python 3 (ipykernel)",
   "language": "python",
   "name": "python3"
  },
  "language_info": {
   "codemirror_mode": {
    "name": "ipython",
    "version": 3
   },
   "file_extension": ".py",
   "mimetype": "text/x-python",
   "name": "python",
   "nbconvert_exporter": "python",
   "pygments_lexer": "ipython3",
   "version": "3.12.4"
  }
 },
 "nbformat": 4,
 "nbformat_minor": 5
}
